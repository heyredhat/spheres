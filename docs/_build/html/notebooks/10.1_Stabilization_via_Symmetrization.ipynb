{
 "cells": [
  {
   "cell_type": "markdown",
   "metadata": {},
   "source": [
    "# Stablization via Symmetrization\n"
   ]
  },
  {
   "cell_type": "markdown",
   "metadata": {},
   "source": [
    "We've seen how we can implement the \"symmetrized tensor product\" of several qubits in terms of a quantum circuit: depending on the number of qubits we want to symmetrize, we adjoint a number of auxilliary qubits, prepare them in a special initial state, apply a sequence of controlled swaps on the auxilliaries and the original qubits, undo the initialization, and postselect on the auxilliary qubits all being $0/\\uparrow$. The key was that the algorithm requires post-selection, and so is only successful part of the time. By preparing our original qubits in the directions provided by a constellation of \"Majorana stars\", we were thus able to prepare spin-$j$ states in the guise of $2j$ symmetrized qubits. \n",
    "\n",
    "But nothing limits us to symmetrizing qubits. In fact, we can apply the same algorithm to symmetrize quantum systems consisting of several qubits: we simply repeat the controlled swaps on however many qubits comprise each subsystem. In fact, this played a role in the motivation behind the paper which provided our symmetrization algorithm: \"Stabilization Of Quantum Computations by Symmetrization\".\n",
    "\n",
    "The idea is the following: Suppose we have a quantum computer, and we're worried about noise. Instead of just running our quantum circuit, we could run $n$ copies of the circuit in parallel, while periodically using the symmetrization algorithm to project the $n$ copies as a whole into the permutation symmetric subspace. Suppose there were no errors: then naturally, each copy of the circuit would be precisely the same, and symmetrizing across them would have no effect. But if there are some errors that asymmetrically affect the different copies, then it's possible that projecting the copies into the permutation symmetric subspace will project off these errors! Indeed, the permutation symmetric subspace \"is the smallest subspace containing all possible error-free states. It thus corresponds to the 'most probing' test we can legitimately apply, which will be passed by all error-free states,\" since we can't just do any probe we like, since such poking around will generally disturb the quantum computation. Moreover, if we rapidly and periodically do this projection, which is probabilistic, then due to the \"quantum Zeno effect,\" we should be able to stay within the subspace with high probability.\n",
    "\n",
    "The problem, however, is that to do the symmetrization at all, we need to add in extra qubits and perform highly entangling operations, again and again. Given that NISQ-era quantum computers are notoriously unreliable about things like controlled swap operations, one might wonder if the errors introduced by the symmetrization algorithm itself would outweight the errors corrected by symmetrization! And in fact, that sadly seems to be the case--for now!\n",
    "\n",
    "But with an eye to the future, let's check out how it might work. \n",
    "\n",
    "(Incidentally, depending on one's particular quantum circuit, there may be other relevant subspaces that one could project into, without disturbing the computation, and which would provide some much needed stabliziation. The \"stabilization via symmetrization\" technique, however is nice insofar as it can help independently of the structure of one's circuits. Indeed, if such stabilization could be provided by the quantum computer itself that would be ideal.)"
   ]
  },
  {
   "cell_type": "markdown",
   "metadata": {},
   "source": [
    "<hr>\n",
    "\n",
    "Let's start off with a simple random circuit consisting of two qubits and two layers of gates. Note that we're using the library `pytket` for our circuits. `random_pytket_circuit` returns a dictionary specifying the circuit (for easy manipulation), and requires `build_pytket_circuit` to actually construct the circuit."
   ]
  },
  {
   "cell_type": "code",
   "execution_count": 1,
   "metadata": {},
   "outputs": [
    {
     "data": {
      "text/html": [
       "<div id=\"glowscript\" class=\"glowscript\"></div>"
      ],
      "text/plain": [
       "<IPython.core.display.HTML object>"
      ]
     },
     "metadata": {},
     "output_type": "display_data"
    },
    {
     "data": {
      "application/javascript": [
       "if (typeof Jupyter !== \"undefined\") { window.__context = { glowscript_container: $(\"#glowscript\").removeAttr(\"id\")};}else{ element.textContent = ' ';}"
      ],
      "text/plain": [
       "<IPython.core.display.Javascript object>"
      ]
     },
     "metadata": {},
     "output_type": "display_data"
    }
   ],
   "source": [
    "from spheres import *\n",
    "\n",
    "n_qubits = 2\n",
    "depth = 2\n",
    "\n",
    "circ_info = random_pytket_circuit(n_qubits=n_qubits, depth=depth)\n",
    "circ = build_pytket_circuit(circ_info)"
   ]
  },
  {
   "cell_type": "markdown",
   "metadata": {},
   "source": [
    "The resulting circuit will look something like this (the image below was pregenerated, since `pytket` won't display its latex output to jupyter notebooks):\n",
    "\n",
    "<img src=\"img/circ_tex.png\">\n",
    "\n",
    "Each layer consists of some single qubit gates and a CNOT."
   ]
  },
  {
   "cell_type": "code",
   "execution_count": 2,
   "metadata": {},
   "outputs": [],
   "source": [
    "sym_circ_info = symmetrize_pytket_circuit(circ_info,\n",
    "                                          n_copies=2,\n",
    "                                          every=1, \n",
    "                                          pairwise=False)\n",
    "sym_circ = sym_circ_info[\"circuit\"]"
   ]
  },
  {
   "cell_type": "markdown",
   "metadata": {},
   "source": [
    "The symmetrized circuit might look something like this: \n",
    "\n",
    "<img src=\"img/sym_circ_tex.png\">\n",
    "\n",
    "We have two copies of the circuit running in parallel, and we do symmetrization after each of the two layers."
   ]
  },
  {
   "cell_type": "markdown",
   "metadata": {},
   "source": [
    "First, let's evaluate the original circuit analytically to see what the answers should be."
   ]
  },
  {
   "cell_type": "code",
   "execution_count": 4,
   "metadata": {},
   "outputs": [
    {
     "name": "stdout",
     "output_type": "stream",
     "text": [
      "analytical dist for original circuit:\n",
      "  00: 0.500000\n",
      "  01: 0.000000\n",
      "  10: 0.500000\n",
      "  11: 0.000000\n"
     ]
    }
   ],
   "source": [
    "basis = list(product([0,1], repeat=n_qubits))\n",
    "def display_dist(dist):\n",
    "    global basis\n",
    "    for bitstr in basis:\n",
    "        val = dist[bitstr] if bitstr in dist else 0\n",
    "        print(\"  %s: %f\" % (\"\".join([str(b) for b in bitstr]), val))\n",
    "\n",
    "circ_dist = eval_pytket_circuit_ibm(circ, analytic=True)\n",
    "print(\"analytical dist for original circuit:\")\n",
    "display_dist(circ_dist)"
   ]
  },
  {
   "cell_type": "markdown",
   "metadata": {},
   "source": [
    "Now let's add in some noise. We can choose between `thermal_noise_model`, `bitflip_noise_model` and `ibmq_16_melbourne_noise_model` model, or add in a new one!"
   ]
  },
  {
   "cell_type": "code",
   "execution_count": 6,
   "metadata": {},
   "outputs": [
    {
     "name": "stdout",
     "output_type": "stream",
     "text": [
      "noisy dist for original circuit:\n",
      "  00: 0.512625\n",
      "  01: 0.002875\n",
      "  10: 0.482500\n",
      "  11: 0.002000\n"
     ]
    }
   ],
   "source": [
    "circ_noise_model = thermal_noise_model(n_qubits=n_qubits, on_qubits=list(range(n_qubits)))\n",
    "noisy_circ_counts = eval_pytket_circuit_ibm(circ.copy().measure_all(), noise_model=circ_noise_model)\n",
    "noisy_circ_dist = probs_from_counts(noisy_circ_counts)\n",
    "\n",
    "print(\"noisy dist for original circuit:\")\n",
    "display_dist(noisy_circ_dist)"
   ]
  },
  {
   "cell_type": "markdown",
   "metadata": {},
   "source": [
    "We could try to do error mitigation:"
   ]
  },
  {
   "cell_type": "code",
   "execution_count": 7,
   "metadata": {},
   "outputs": [
    {
     "name": "stdout",
     "output_type": "stream",
     "text": [
      "mitigated dist for original circuit:\n",
      "  00: 0.504593\n",
      "  01: 0.002901\n",
      "  10: 0.490434\n",
      "  11: 0.002073\n"
     ]
    }
   ],
   "source": [
    "circ_meas_filter = qiskit_error_calibration(n_qubits, circ_noise_model)    \n",
    "mitigated_circ_dist = probs_from_counts(qiskit_pytket_counts(circ_meas_filter.apply(pytket_qiskit_counts(noisy_circ_counts))))\n",
    "\n",
    "print(\"mitigated dist for original circuit:\")\n",
    "display_dist(mitigated_circ_dist)"
   ]
  },
  {
   "cell_type": "markdown",
   "metadata": {},
   "source": [
    "Now let's look at the symmetrized circuit. We evaluate the circuit, do the postselection, and average the results across the copies. Here we haven't included any noise, so this won't be any different from simply running the original circuit with a higher number of shots."
   ]
  },
  {
   "cell_type": "code",
   "execution_count": 8,
   "metadata": {},
   "outputs": [
    {
     "name": "stdout",
     "output_type": "stream",
     "text": [
      "clean sym circ dists:\n",
      "  postselected dists:\n",
      "    circuit 0:\n",
      "      00: 0.502000\n",
      "      10: 0.498000\n",
      "    circuit 1:\n",
      "      00: 0.514375\n",
      "      10: 0.485625\n",
      "  averaged dists:\n",
      "    00: 0.508188\n",
      "    10: 0.491812\n"
     ]
    }
   ],
   "source": [
    "def display_sym_dists(sym_dists):\n",
    "    global basis\n",
    "    exp_dists, avg_dist = sym_dists[\"exp_dists\"], sym_dists[\"avg_dist\"], \n",
    "    print(\"  postselected dists:\")\n",
    "    for i, dist in enumerate(exp_dists):\n",
    "        print(\"    circuit %d:\" % i)\n",
    "        for bitstr in basis:\n",
    "            print(\"      %s: %f\" % (\"\".join([str(b) for b in bitstr]), dist[bitstr])) if bitstr in dist else None\n",
    "    print(\"  averaged dists:\")\n",
    "    for bitstr in basis:\n",
    "        print(\"    %s: %f\" % (\"\".join([str(b) for b in bitstr]), avg_dist[bitstr])) if bitstr in avg_dist else None\n",
    "        \n",
    "clean_sym_circ_counts = eval_pytket_circuit_ibm(sym_circ)\n",
    "\n",
    "print(\"clean sym circ dists:\")\n",
    "display_sym_dists(process_symmetrized_pytket_counts(sym_circ_info, clean_sym_circ_counts))"
   ]
  },
  {
   "cell_type": "markdown",
   "metadata": {},
   "source": [
    "Now let's look at the performance of the symmetrized circuits with some noise."
   ]
  },
  {
   "cell_type": "code",
   "execution_count": 9,
   "metadata": {},
   "outputs": [
    {
     "name": "stdout",
     "output_type": "stream",
     "text": [
      "noisy sym circ dists:\n",
      "  postselected dists:\n",
      "    circuit 0:\n",
      "      00: 0.506192\n",
      "      01: 0.015902\n",
      "      10: 0.460597\n",
      "      11: 0.017309\n",
      "    circuit 1:\n",
      "      00: 0.506192\n",
      "      01: 0.020124\n",
      "      10: 0.458204\n",
      "      11: 0.015480\n",
      "  averaged dists:\n",
      "    00: 0.506192\n",
      "    01: 0.018013\n",
      "    10: 0.459401\n",
      "    11: 0.016395\n"
     ]
    }
   ],
   "source": [
    "sym_circ_noise_model = thermal_noise_model(n_qubits=len(sym_circ.qubits), on_qubits=list(range(len(sym_circ.qubits))))\n",
    "noisy_sym_circ_counts = eval_pytket_circuit_ibm(sym_circ, noise_model=sym_circ_noise_model)\n",
    "\n",
    "print(\"noisy sym circ dists:\")\n",
    "noisy_sym_circ_dists = process_symmetrized_pytket_counts(sym_circ_info, noisy_sym_circ_counts)\n",
    "display_sym_dists(noisy_sym_circ_dists)"
   ]
  },
  {
   "cell_type": "markdown",
   "metadata": {},
   "source": [
    "We could try doing error mitigation:"
   ]
  },
  {
   "cell_type": "code",
   "execution_count": 10,
   "metadata": {},
   "outputs": [
    {
     "name": "stdout",
     "output_type": "stream",
     "text": [
      "mitigated sym circ dists:\n",
      "  postselected dists:\n",
      "    circuit 0:\n",
      "      00: 0.494203\n",
      "      01: 0.015483\n",
      "      10: 0.472539\n",
      "      11: 0.017775\n",
      "    circuit 1:\n",
      "      00: 0.498741\n",
      "      01: 0.020111\n",
      "      10: 0.465265\n",
      "      11: 0.015883\n",
      "  averaged dists:\n",
      "    00: 0.496472\n",
      "    01: 0.017797\n",
      "    10: 0.468902\n",
      "    11: 0.016829\n"
     ]
    }
   ],
   "source": [
    "sym_circ_meas_filter = qiskit_error_calibration(len(sym_circ.qubits), sym_circ_noise_model)    \n",
    "mitigated_sym_circ_counts = qiskit_pytket_counts(sym_circ_meas_filter.apply(pytket_qiskit_counts(noisy_sym_circ_counts)))\n",
    "mitigated_sym_circ_dists = process_symmetrized_pytket_counts(sym_circ_info, mitigated_sym_circ_counts)\n",
    "\n",
    "print(\"mitigated sym circ dists:\")\n",
    "display_sym_dists(mitigated_sym_circ_dists)"
   ]
  },
  {
   "cell_type": "markdown",
   "metadata": {},
   "source": [
    "And now let's look at how well we did."
   ]
  },
  {
   "cell_type": "code",
   "execution_count": 12,
   "metadata": {},
   "outputs": [
    {
     "name": "stdout",
     "output_type": "stream",
     "text": [
      "expected results: [0.5 0.  0.5 0. ]\n",
      "actual circ results: [0.50459295 0.00290095 0.49043356 0.00207255]\n",
      "actual sym_circ results: [0.496472   0.01779701 0.46890165 0.01682934]\n",
      "\n",
      "circ error: 0.011195\n",
      "sym circ error: 0.039743\n"
     ]
    }
   ],
   "source": [
    "expected_probs = np.array([circ_dist[b] if b in circ_dist else 0 for b in basis])\n",
    "actual_circ_probs = np.array([mitigated_circ_dist[b] if b in mitigated_circ_dist else 0 for b in basis])\n",
    "actual_sym_circ_probs = np.array([mitigated_sym_circ_dists[\"avg_dist\"][b] if b in mitigated_sym_circ_dists[\"avg_dist\"] else 0 for b in basis])\n",
    "\n",
    "print(\"expected results: %s\" % expected_probs)\n",
    "print(\"actual circ results: %s\" % actual_circ_probs)\n",
    "print(\"actual sym_circ results: %s\" % actual_sym_circ_probs)\n",
    "print()\n",
    "print(\"circ error: %f\" % np.linalg.norm(np.array(actual_circ_probs) - np.array(expected_probs)))\n",
    "print(\"sym circ error: %f\" % np.linalg.norm(np.array(actual_sym_circ_probs) - np.array(expected_probs)))"
   ]
  },
  {
   "cell_type": "markdown",
   "metadata": {},
   "source": [
    "To get a better sense of under what conditions the algorithm might be helpful, we can easily run experiments in batches. For example, below we evaluate circuits with two qubits, with two copies to symmetrize over, where we symmetrize every two layers, randomly pairwise instead of across all the circuits, with thermal noise, and where the errors apply to auxilliary qubits as much as the other qubits. We evaluate such circuits for depths from $1$ to $8$, averaging over many randomly generated circuits for each depth, and graph the results (we could have chosen another parameter to vary, besides depth)!"
   ]
  },
  {
   "cell_type": "code",
   "execution_count": 29,
   "metadata": {},
   "outputs": [
    {
     "name": "stdout",
     "output_type": "stream",
     "text": [
      "depth: 1\n",
      "depth: 2\n",
      "depth: 3\n",
      "depth: 4\n"
     ]
    },
    {
     "data": {
      "image/png": "[encoded data removed]",
      "text/plain": [
       "<Figure size 432x288 with 1 Axes>"
      ]
     },
     "metadata": {
      "needs_background": "light"
     },
     "output_type": "display_data"
    }
   ],
   "source": [
    "from spheres import *\n",
    "\n",
    "params = {\"n_qubits\": 1,\\\n",
    "          #\"depth\": 2,\\\n",
    "          \"n_copies\": 3,\\\n",
    "          \"every\": 2,\\\n",
    "          \"pairwise\": True,\\\n",
    "          \"noise_model\": thermal_noise_model,\\\n",
    "          \"noise_model_name\": thermal_noise_model,\\\n",
    "          \"error_on_all\": True,\\\n",
    "          \"backend\": Aer.get_backend(\"qasm_simulator\"),\\\n",
    "          \"shots\": 8000}\n",
    "\n",
    "depths = list(range(1, 5))\n",
    "n_runs = 50\n",
    "experiments = []\n",
    "for depth in depths:\n",
    "    print(\"depth: %d\" % depth )\n",
    "    circ_errors, sym_circ_errors = [], []\n",
    "    for i in range(n_runs):\n",
    "        experiment = eval_pytket_symmetrization_performance(**params, depth=depth)\n",
    "        circ_errors.append(experiment[\"circ_error\"])\n",
    "        sym_circ_errors.append(experiment[\"sym_circ_error\"])\n",
    "    experiments.append({**params, **{\"depth\": depth,\\\n",
    "                                     \"circ_error\": sum(circ_errors)/len(circ_errors),\\\n",
    "                                     \"sym_circ_error\": sum(sym_circ_errors)/len(sym_circ_errors)}})\n",
    "\n",
    "plot_symmetrization_performance(\"depth\", experiments)"
   ]
  },
  {
   "cell_type": "markdown",
   "metadata": {},
   "source": [
    "Some results, picked somewhat arbitrarily:\n",
    "\n",
    "![result1](img/sym_circ_result1.png)\n",
    "\n",
    "![result2](img/sym_circ_result2.png)\n",
    "\n",
    "![result3](img/sym_circ_result3.png)\n",
    "\n",
    "![result4](img/sym_circ_result4.png)\n",
    "\n",
    "<img style=\"display:block; margin:auto\" src=\"img/sym_circ_result5.png\" width=450>"
   ]
  },
  {
   "cell_type": "markdown",
   "metadata": {},
   "source": [
    "<hr>\n",
    "\n",
    "Clearly, it's not a given that this method of \"stablization\" will deliver results at least at the moment. It would be interesting to find some set of conditions that would make this algorithm relevant. The difficulties are, of course, errors in the symmetrization procedure itself, and also the scaling of the auxilliary qubits. Unless intermediate measurements are possible, allowing one to reuse auxilliary qubits, the cost of applying the algorithm quickly becomes prohibitive--and there aren't enough gains at the small scale, it seems, to make it worth using. In the future, however, one could imagine having thousands of qubits, as well as reliable CSWAP gates, so that one could reliably symmetrize over hundreds copies of the circuit, etc. See the attached papers for some discussion of the types of errors that this method is best at dealing with."
   ]
  },
  {
   "cell_type": "markdown",
   "metadata": {},
   "source": [
    "<hr>\n",
    "\n",
    "## Bibliography \n",
    "\n",
    "[Error Symmetrization in Quantum Computers](https://arxiv.org/abs/quant-ph/9611046)\n",
    "\n",
    "[Stabilization of Quantum Computations By Symmetrization](https://heyredhat.github.io/refs/Stabilization_of_Quantum_Compu.pdf)"
   ]
  }
 ],
 "metadata": {
  "kernelspec": {
   "display_name": "VPython",
   "language": "python",
   "name": "vpython"
  },
  "language_info": {
   "codemirror_mode": {
    "name": "ipython",
    "version": 3
   },
   "file_extension": ".py",
   "mimetype": "text/x-python",
   "name": "python",
   "nbconvert_exporter": "python",
   "pygments_lexer": "ipython3",
   "version": "3.8.5"
  }
 },
 "nbformat": 4,
 "nbformat_minor": 4
}
