{
 "metadata": {
  "language_info": {
   "codemirror_mode": {
    "name": "ipython",
    "version": 3
   },
   "file_extension": ".py",
   "mimetype": "text/x-python",
   "name": "python",
   "nbconvert_exporter": "python",
   "pygments_lexer": "ipython3",
   "version": "3.8.5-final"
  },
  "orig_nbformat": 2,
  "kernelspec": {
   "name": "python3",
   "display_name": "Python 3"
  }
 },
 "nbformat": 4,
 "nbformat_minor": 2,
 "cells": [
  {
   "cell_type": "code",
   "execution_count": 14,
   "metadata": {},
   "outputs": [
    {
     "output_type": "stream",
     "name": "stdout",
     "text": [
      "7 total qubits for symmetrized circuit\nanalytical dist for original circuit:\n  00: 0.146447\n  11: 0.853553\n"
     ]
    }
   ],
   "source": [
    "from spheres import *\n",
    "from spheres.circuits import * \n",
    "\n",
    "from pytket.backends.ibm import AerBackend, AerStateBackend, IBMQBackend\n",
    "from pytket.qiskit import tk_to_qiskit\n",
    "\n",
    "n_qubits = 2\n",
    "depth = 5 \n",
    "n_shots = 8000 \n",
    "\n",
    "n_copies = 2\n",
    "every = 2\n",
    "pairwise = True\n",
    "reuse_cntrls = False\n",
    "\n",
    "latex = False\n",
    "use_remote_simulator = False\n",
    "error_mitigation = True\n",
    "\n",
    "################################################################################################\n",
    "\n",
    "circ_specification = random_circuit(n_qubits=n_qubits, depth=depth)\n",
    "circ = build_circuit(circ_specification)\n",
    "if latex:\n",
    "    circ.to_latex_file(\"circ.tex\")\n",
    "\n",
    "################################################################################################\n",
    "\n",
    "sym_circ_info = symmetrize_circuit(circ_specification,\n",
    "                                   n_copies=n_copies,\n",
    "                                   every=every, \n",
    "                                   pairwise=pairwise,\n",
    "                                   reuse_cntrls=reuse_cntrls)\n",
    "sym_circ = sym_circ_info[\"circuit\"]\n",
    "if latex:\n",
    "    sym_circ.to_latex_file(\"sym_circ.tex\")\n",
    "\n",
    "total_sym_qubits = len(sym_circ.qubits)\n",
    "print(\"%d total qubits for symmetrized circuit\" % total_sym_qubits)\n",
    "\n",
    "################################################################################################\n",
    "\n",
    "analytic_circ = circ.copy()\n",
    "state_backend = AerStateBackend()\n",
    "state_backend.compile_circuit(analytic_circ)\n",
    "circ_distribution = state_backend.get_result(state_backend.process_circuit(analytic_circ)).get_distribution()\n",
    "\n",
    "print(\"analytical dist for original circuit:\")\n",
    "for bitstr, prob in circ_distribution.items():\n",
    "    print(\"  %s: %f\" % (\"\".join([str(b) for b in bitstr]), prob))"
   ]
  },
  {
   "cell_type": "code",
   "execution_count": 15,
   "metadata": {},
   "outputs": [
    {
     "output_type": "stream",
     "name": "stderr",
     "text": [
      "ibmqfactory.load_account:WARNING:2020-11-25 12:59:31,263: Credentials are already in use. The existing account in the session will be replaced.\n",
      "WARNING:qiskit.providers.aer.noise.noise_model:WARNING: quantum error already exists for instruction \"u1\" on qubits [0] , appending additional error.\n",
      "WARNING:qiskit.providers.aer.noise.noise_model:WARNING: quantum error already exists for instruction \"u1\" on qubits [1] , appending additional error.\n",
      "WARNING:qiskit.providers.aer.noise.noise_model:WARNING: quantum error already exists for instruction \"u1\" on qubits [3] , appending additional error.\n",
      "WARNING:qiskit.providers.aer.noise.noise_model:WARNING: quantum error already exists for instruction \"u1\" on qubits [4] , appending additional error.\n",
      "WARNING:qiskit.providers.aer.noise.noise_model:WARNING: quantum error already exists for instruction \"u1\" on qubits [5] , appending additional error.\n",
      "WARNING:qiskit.providers.aer.noise.noise_model:WARNING: quantum error already exists for instruction \"u1\" on qubits [6] , appending additional error.\n"
     ]
    }
   ],
   "source": [
    "from qiskit import QuantumCircuit, QuantumRegister, Aer, execute, IBMQ, transpile\n",
    "from qiskit.providers.ibmq.managed import IBMQJobManager\n",
    "from qiskit.ignis.mitigation.measurement import complete_meas_cal, CompleteMeasFitter\n",
    "from qiskit.providers.aer.noise import NoiseModel\n",
    "import qiskit.providers.aer.noise as noise\n",
    "\n",
    "provider = IBMQ.load_account()\n",
    "job_manager = IBMQJobManager()\n",
    "\n",
    "def error_calibration(n_qubits, noise_model, use_remote_simulator=False):\n",
    "    meas_calibs, state_labels = complete_meas_cal(qr=QuantumRegister(n_qubits), circlabel='mcal')\n",
    "    if not use_remote_simulator:\n",
    "        noise_job = execute(meas_calibs, backend=Aer.get_backend(\"qasm_simulator\"), shots=n_shots, noise_model=noise_model)\n",
    "        cal_results = noise_job.result()\n",
    "    else:\n",
    "        noise_job = job_manager.run(meas_calibs, backend=provider.get_backend(\"ibmq_qasm_simulator\"), shots=n_shots, noise_model=noise_model)\n",
    "        cal_results = noise_job.results().combine_results()                                  \n",
    "    meas_fitter = CompleteMeasFitter(cal_results, state_labels, circlabel='mcal')\n",
    "    return meas_fitter.filter\n",
    "\n",
    "def build_noise_model(from_backend=None, n_qubits=None, on_qubits=None):\n",
    "    if from_backend:\n",
    "        return NoiseModel.from_backend(IBMQ.providers()[0].get_backend(from_backend))\n",
    "    else:\n",
    "        if not n_qubits:\n",
    "            n_qubits = len(on_qubits)\n",
    "        noise_model = NoiseModel()\n",
    "        error_1 = noise.depolarizing_error(0.001, 1)\n",
    "        error_2 = noise.depolarizing_error(0.01 , 2)\n",
    "\n",
    "        for qubit in list(range(n_qubits)):\n",
    "            noise_model.add_quantum_error(noise.depolarizing_error(0.000001, 1), ['u1'], [qubit])\n",
    "            \n",
    "        for qubit in on_qubits:\n",
    "            noise_model.add_quantum_error(error_1, ['u1', 'u2', 'u3'], [qubit])\n",
    "        for pair in product(on_qubits, repeat=2):\n",
    "            noise_model.add_quantum_error(error_2, ['cx'], pair)\n",
    "        return noise_model\n",
    "\n",
    "circ_noise_model = build_noise_model(on_qubits=list(range(n_qubits)))\n",
    "\n",
    "# no noise on cntrl qubits!\n",
    "sym_circ_noise_model = build_noise_model(n_qubits=total_sym_qubits, on_qubits=list(range(len(sym_circ_info[\"cntrl_qubits\"]), total_sym_qubits)))"
   ]
  },
  {
   "cell_type": "code",
   "execution_count": 16,
   "metadata": {},
   "outputs": [
    {
     "output_type": "stream",
     "name": "stdout",
     "text": [
      "noisy dist for original circuit:\n  00: 0.147750\n  01: 0.010750\n  10: 0.012750\n  11: 0.828750\n"
     ]
    }
   ],
   "source": [
    "noisy_circ = circ.copy().measure_all()\n",
    "noisy_circ_backend = AerBackend(circ_noise_model)\n",
    "noisy_circ_backend.compile_circuit(noisy_circ)\n",
    "noisy_circ_result = noisy_circ_backend.get_result(noisy_circ_backend.process_circuit(noisy_circ, n_shots=n_shots))\n",
    "noisy_circ_dists = noisy_circ_result.get_distribution()\n",
    "\n",
    "print(\"noisy dist for original circuit:\")\n",
    "for bitstr, prob in noisy_circ_dists.items():\n",
    "    print(\"  %s: %f\" % (\"\".join([str(b) for b in bitstr]), prob))"
   ]
  },
  {
   "cell_type": "code",
   "execution_count": 17,
   "metadata": {},
   "outputs": [
    {
     "output_type": "stream",
     "name": "stdout",
     "text": [
      "mitigated dist for original circuit:\n  00: 0.147750\n  01: 0.010750\n  10: 0.012750\n  11: 0.828750\n"
     ]
    }
   ],
   "source": [
    "if error_mitigation:\n",
    "    circ_meas_filter = error_calibration(n_qubits, circ_noise_model)\n",
    "    noisy_circ_counts = dict([(\"\".join([str(b) for b in bitstr]), count) for bitstr, count in noisy_circ_result.get_counts().items()])\n",
    "    mitigated_circ_counts = circ_meas_filter.apply(noisy_circ_counts)\n",
    "    mitigated_circ_dists = probs_from_counts(mitigated_circ_counts)\n",
    "\n",
    "    print(\"mitigated dist for original circuit:\")\n",
    "    for bitstr, prob in mitigated_circ_dists.items():\n",
    "        print(\"  %s: %f\" % (bitstr, prob))"
   ]
  },
  {
   "cell_type": "code",
   "execution_count": 18,
   "metadata": {},
   "outputs": [],
   "source": [
    "def display_sym_dists(sym_dists):\n",
    "    exp_dists, avg_dist = sym_dists[\"exp_dists\"], sym_dists[\"avg_dist\"], \n",
    "    print(\"  postselected dists:\")\n",
    "    for i, dist in enumerate(exp_dists):\n",
    "        print(\"    experiment %d:\" % i)\n",
    "        for bitstr, prob in dist.items():\n",
    "            print(\"      %s: %f\" % (\"\".join([str(b) for b in bitstr]), prob))\n",
    "    print(\"  averaged dists:\")\n",
    "    for bitstr, prob in avg_dist.items():\n",
    "        print(\"    %s: %f\" % (\"\".join([str(b) for b in bitstr]), prob)) \n",
    "\n",
    "def qiskit_pytket_counts(counts):\n",
    "    return dict([(tuple([int(b) for b in \"\".join(bitstr.split())][::-1]), count) for bitstr, count in counts.items()])"
   ]
  },
  {
   "cell_type": "code",
   "execution_count": 19,
   "metadata": {},
   "outputs": [
    {
     "output_type": "stream",
     "name": "stdout",
     "text": [
      "clean sym circ dists:\n  postselected dists:\n    experiment 0:\n      00: 0.147125\n      11: 0.852875\n    experiment 1:\n      00: 0.135875\n      11: 0.864125\n  averaged dists:\n    00: 0.141500\n    11: 0.858500\n"
     ]
    }
   ],
   "source": [
    "clean_sym_circ = sym_circ.copy()\n",
    "\n",
    "clean_backend = AerBackend()\n",
    "clean_backend.compile_circuit(clean_sym_circ)\n",
    "\n",
    "if not use_remote_simulator:\n",
    "    clean_sym_circ_counts = clean_backend.get_result(clean_backend.process_circuit(clean_sym_circ, n_shots=n_shots)).get_counts()\n",
    "else:\n",
    "    qis_clean_sym_circ = tk_to_qiskit(clean_sym_circ)\n",
    "    qis_clean_sym_circ_counts = execute(qis_clean_sym_circ, backend=provider.get_backend(\"ibmq_qasm_simulator\"), shots=8000).result().get_counts()\n",
    "    clean_sym_circ_counts = qiskit_pytket_counts(qis_clean_sym_circ_counts)\n",
    "\n",
    "print(\"clean sym circ dists:\")\n",
    "display_sym_dists(process_sym_counts(sym_circ_info, clean_sym_circ_counts))"
   ]
  },
  {
   "cell_type": "code",
   "execution_count": 20,
   "metadata": {},
   "outputs": [
    {
     "output_type": "stream",
     "name": "stdout",
     "text": [
      "noisy sym circ dists:\n  postselected dists:\n    experiment 0:\n      00: 0.143215\n      01: 0.007773\n      10: 0.013043\n      11: 0.835968\n    experiment 1:\n      00: 0.147431\n      11: 0.837286\n      01: 0.008564\n      10: 0.006719\n  averaged dists:\n    00: 0.145323\n    01: 0.008169\n    10: 0.009881\n    11: 0.836627\n"
     ]
    }
   ],
   "source": [
    "noisy_sym_circ = sym_circ.copy()\n",
    "noisy_sym_circ_backend = AerBackend(sym_circ_noise_model)\n",
    "noisy_sym_circ_backend.compile_circuit(noisy_sym_circ)\n",
    "\n",
    "if not use_remote_simulator:\n",
    "    noisy_sym_circ_counts = noisy_sym_circ_backend.get_result(noisy_sym_circ_backend.process_circuit(noisy_sym_circ, n_shots=n_shots)).get_counts()\n",
    "else:\n",
    "    qis_noisy_sym_circ = tk_to_qiskit(noisy_sym_circ)\n",
    "    qis_noisy_sym_circ_counts = execute(qis_noisy_sym_circ, backend=provider.get_backend(\"ibmq_qasm_simulator\"), shots=8000, noise_model=sym_circ_noise_model).result().get_counts()\n",
    "    noisy_sym_circ_counts = qiskit_pytket_counts(qis_noisy_sym_circ_counts)\n",
    "\n",
    "print(\"noisy sym circ dists:\")\n",
    "noisy_sym_circ_dists = process_sym_counts(sym_circ_info, noisy_sym_circ_counts)\n",
    "display_sym_dists(noisy_sym_circ_dists)"
   ]
  },
  {
   "cell_type": "code",
   "execution_count": 21,
   "metadata": {},
   "outputs": [
    {
     "output_type": "stream",
     "name": "stdout",
     "text": [
      "mitigated sym circ dists:\n  postselected dists:\n    experiment 0:\n      00: 0.143215\n      01: 0.007773\n      10: 0.013043\n      11: 0.835968\n    experiment 1:\n      00: 0.147431\n      01: 0.008564\n      10: 0.006719\n      11: 0.837286\n  averaged dists:\n    00: 0.145323\n    01: 0.008169\n    10: 0.009881\n    11: 0.836627\n"
     ]
    }
   ],
   "source": [
    "if error_mitigation:\n",
    "    sym_circ_meas_filter = error_calibration(total_sym_qubits, sym_circ_noise_model, use_remote_simulator=use_remote_simulator)\n",
    "    noisy_sym_circ_counts = dict([(\"\".join([str(b) for b in bitstr]), count) for bitstr, count in noisy_sym_circ_counts.items()])\n",
    "    mitigated_sym_circ_counts = sym_circ_meas_filter.apply(noisy_sym_circ_counts)\n",
    "    mitigated_sym_circ_counts = dict([(tuple([int(b) for b in bitstr]), count) for bitstr, count in mitigated_sym_circ_counts.items()])\n",
    "    mitigated_sym_circ_dists = process_sym_counts(sym_circ_info, mitigated_sym_circ_counts)\n",
    "\n",
    "    print(\"mitigated sym circ dists:\")\n",
    "    display_sym_dists(mitigated_sym_circ_dists)"
   ]
  },
  {
   "cell_type": "code",
   "execution_count": 22,
   "metadata": {},
   "outputs": [
    {
     "output_type": "stream",
     "name": "stdout",
     "text": [
      "expected results: [0.14644660940672616, 0, 0, 0.8535533905932738]\nactual circ results: [0.14775000687732578, 0.010749994189177534, 0.012749990648729049, 0.8287500082847676]\nactual sym_circ results: [0.14532279212159627, 0.00816864196103361, 0.009881421885093972, 0.8366271440322761]\n\ncirc error: 0.029917\nsym circ error: 0.021263\n"
     ]
    }
   ],
   "source": [
    "basis = list(product([0,1], repeat=n_qubits))\n",
    "expected_probs = []\n",
    "actual_circ_probs = []\n",
    "actual_sym_circ_probs = []\n",
    "for b in basis:\n",
    "    if b in circ_distribution:\n",
    "        expected_probs.append(circ_distribution[b])\n",
    "    else:\n",
    "        expected_probs.append(0)\n",
    "    bs = \"\".join([str(b_) for b_ in b]) \n",
    "    if error_mitigation:\n",
    "        if bs in mitigated_circ_dists.keys():\n",
    "            actual_circ_probs.append(mitigated_circ_dists[bs])\n",
    "        else:\n",
    "            actual_circ_probs.append(0)    \n",
    "        if b in mitigated_sym_circ_dists[\"avg_dist\"]:\n",
    "            actual_sym_circ_probs.append(mitigated_sym_circ_dists[\"avg_dist\"][b])\n",
    "        else:\n",
    "            actual_sym_circ_probs.append(0)\n",
    "    else:\n",
    "        if b in noisy_circ_dists.keys():\n",
    "            actual_circ_probs.append(noisy_circ_dists[b])\n",
    "        else:\n",
    "            actual_circ_probs.append(0)    \n",
    "        if b in noisy_sym_circ_dists[\"avg_dist\"]:\n",
    "            actual_sym_circ_probs.append(noisy_sym_circ_dists[\"avg_dist\"][b])\n",
    "        else:\n",
    "            actual_sym_circ_probs.append(0)\n",
    "\n",
    "print(\"expected results: %s\" % expected_probs)\n",
    "print(\"actual circ results: %s\" % actual_circ_probs)\n",
    "print(\"actual sym_circ results: %s\" % actual_sym_circ_probs)\n",
    "print()\n",
    "print(\"circ error: %f\" % np.linalg.norm(np.array(actual_circ_probs) - np.array(expected_probs)))\n",
    "print(\"sym circ error: %f\" % np.linalg.norm(np.array(actual_sym_circ_probs) - np.array(expected_probs)))"
   ]
  },
  {
   "cell_type": "code",
   "execution_count": null,
   "metadata": {},
   "outputs": [],
   "source": []
  }
 ]
}