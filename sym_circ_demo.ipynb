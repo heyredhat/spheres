{
 "metadata": {
  "language_info": {
   "codemirror_mode": {
    "name": "ipython",
    "version": 3
   },
   "file_extension": ".py",
   "mimetype": "text/x-python",
   "name": "python",
   "nbconvert_exporter": "python",
   "pygments_lexer": "ipython3",
   "version": "3.8.5-final"
  },
  "orig_nbformat": 2,
  "kernelspec": {
   "name": "python3",
   "display_name": "Python 3"
  }
 },
 "nbformat": 4,
 "nbformat_minor": 2,
 "cells": [
  {
   "cell_type": "code",
   "execution_count": 70,
   "metadata": {},
   "outputs": [
    {
     "output_type": "stream",
     "name": "stdout",
     "text": [
      "5 total qubits for symmetrized circuit\nanalytical dist for original circuit:\n  0: 0.853553\n  1: 0.146447\n"
     ]
    }
   ],
   "source": [
    "from spheres import *\n",
    "from pytket.backends.ibm import AerBackend, AerStateBackend, IBMQBackend\n",
    "from pytket.qiskit import tk_to_qiskit\n",
    "\n",
    "n_qubits = 1\n",
    "depth = 4 \n",
    "n_shots = 8000 \n",
    "\n",
    "n_copies = 2\n",
    "\n",
    "every = 2\n",
    "pairwise = True\n",
    "reuse_cntrls = False\n",
    "\n",
    "latex = False\n",
    "use_remote_simulator = False\n",
    "\n",
    "noise_model_from = \"ibmq_santiago\"\n",
    "\n",
    "################################################################################################\n",
    "\n",
    "circ_specification = random_circuit(n_qubits=n_qubits, depth=depth)\n",
    "circ = build_circuit(circ_specification)\n",
    "if latex:\n",
    "    circ.to_latex_file(\"circ.tex\")\n",
    "\n",
    "################################################################################################\n",
    "\n",
    "sym_circ_info = symmetrize_circuit(circ_specification,\n",
    "                                   n_copies=n_copies,\n",
    "                                   every=every, \n",
    "                                   pairwise=pairwise,\n",
    "                                   reuse_cntrls=reuse_cntrls)\n",
    "sym_circ = sym_circ_info[\"circuit\"]\n",
    "if latex:\n",
    "    sym_circ.to_latex_file(\"sym_circ.tex\")\n",
    "\n",
    "total_sym_qubits = len(sym_circ.qubits)\n",
    "print(\"%d total qubits for symmetrized circuit\" % total_sym_qubits)\n",
    "\n",
    "################################################################################################\n",
    "\n",
    "analytic_circ = circ.copy()\n",
    "state_backend = AerStateBackend()\n",
    "state_backend.compile_circuit(analytic_circ)\n",
    "circ_distribution = state_backend.get_result(state_backend.process_circuit(analytic_circ)).get_distribution()\n",
    "\n",
    "print(\"analytical dist for original circuit:\")\n",
    "for bitstr, prob in circ_distribution.items():\n",
    "    print(\"  %s: %f\" % (\"\".join([str(b) for b in bitstr]), prob))"
   ]
  },
  {
   "cell_type": "code",
   "execution_count": 71,
   "metadata": {},
   "outputs": [
    {
     "output_type": "stream",
     "name": "stderr",
     "text": [
      "ibmqfactory.load_account:WARNING:2020-11-22 22:20:57,811: Credentials are already in use. The existing account in the session will be replaced.\n"
     ]
    }
   ],
   "source": [
    "from qiskit import QuantumCircuit, QuantumRegister, Aer, execute, IBMQ, transpile\n",
    "from qiskit.providers.ibmq.managed import IBMQJobManager\n",
    "from qiskit.ignis.mitigation.measurement import complete_meas_cal, CompleteMeasFitter\n",
    "from qiskit.providers.aer.noise import NoiseModel\n",
    "provider = IBMQ.load_account()\n",
    "job_manager = IBMQJobManager()\n",
    "\n",
    "def error_calibration(n_qubits, noise_model, use_remote_simulator=False):\n",
    "    meas_calibs, state_labels = complete_meas_cal(qr=QuantumRegister(n_qubits), circlabel='mcal')\n",
    "    if not use_remote_simulator:\n",
    "        noise_job = execute(meas_calibs, backend=Aer.get_backend(\"qasm_simulator\"), shots=n_shots, noise_model=noise_model)\n",
    "        cal_results = noise_job.result()\n",
    "    else:\n",
    "        noise_job = job_manager.run(meas_calibs, backend=provider.get_backend(\"ibmq_qasm_simulator\"), shots=n_shots, noise_model=noise_model)\n",
    "        cal_results = noise_job.results().combine_results()                                  \n",
    "    meas_fitter = CompleteMeasFitter(cal_results, state_labels, circlabel='mcal')\n",
    "    return meas_fitter.filter\n",
    "\n",
    "noise_model = NoiseModel.from_backend(IBMQ.providers()[0].get_backend(noise_model_from))"
   ]
  },
  {
   "cell_type": "code",
   "execution_count": 73,
   "metadata": {},
   "outputs": [
    {
     "output_type": "stream",
     "name": "stdout",
     "text": [
      "noisy dist for original circuit:\n  0: 0.847375\n  1: 0.152625\n"
     ]
    }
   ],
   "source": [
    "noisy_circ = circ.copy().measure_all()\n",
    "noisy_backend = AerBackend(noise_model)\n",
    "noisy_backend.compile_circuit(noisy_circ)\n",
    "noisy_circ_result = noisy_backend.get_result(noisy_backend.process_circuit(noisy_circ, n_shots=n_shots))\n",
    "\n",
    "print(\"noisy dist for original circuit:\")\n",
    "for bitstr, prob in noisy_circ_result.get_distribution().items():\n",
    "    print(\"  %s: %f\" % (\"\".join([str(b) for b in bitstr]), prob))"
   ]
  },
  {
   "cell_type": "code",
   "execution_count": 76,
   "metadata": {},
   "outputs": [
    {
     "output_type": "stream",
     "name": "stdout",
     "text": [
      "mitigated dist for original circuit:\n  0: 0.857310\n  1: 0.142690\n"
     ]
    }
   ],
   "source": [
    "circ_meas_filter = error_calibration(n_qubits, noise_model)\n",
    "noisy_circ_counts = dict([(\"\".join([str(b) for b in bitstr]), count) for bitstr, count in noisy_circ_result.get_counts().items()])\n",
    "mitigated_circ_counts = circ_meas_filter.apply(noisy_circ_counts)\n",
    "\n",
    "print(\"mitigated dist for original circuit:\")\n",
    "for bitstr, prob in probs_from_counts(mitigated_circ_counts).items():\n",
    "    print(\"  %s: %f\" % (bitstr, prob))"
   ]
  },
  {
   "cell_type": "code",
   "execution_count": 77,
   "metadata": {},
   "outputs": [],
   "source": [
    "def display_sym_dists(sym_dists):\n",
    "    exp_dists, avg_dist = sym_dists[\"exp_dists\"], sym_dists[\"avg_dist\"], \n",
    "    print(\"  postselected dists:\")\n",
    "    for i, dist in enumerate(exp_dists):\n",
    "        print(\"    experiment %d:\" % i)\n",
    "        for bitstr, prob in dist.items():\n",
    "            print(\"      %s: %f\" % (\"\".join([str(b) for b in bitstr]), prob))\n",
    "    print(\"  averaged dists:\")\n",
    "    for bitstr, prob in avg_dist.items():\n",
    "        print(\"    %s: %f\" % (\"\".join([str(b) for b in bitstr]), prob)) \n",
    "\n",
    "def qiskit_pytket_counts(counts):\n",
    "    return dict([(tuple([int(b) for b in \"\".join(bitstr.split())][::-1]), count) for bitstr, count in counts.items()])"
   ]
  },
  {
   "cell_type": "code",
   "execution_count": 78,
   "metadata": {},
   "outputs": [
    {
     "output_type": "stream",
     "name": "stdout",
     "text": [
      "clean sym circ dists:\n  postselected dists:\n    experiment 0:\n      0: 0.851375\n      1: 0.148625\n    experiment 1:\n      0: 0.855000\n      1: 0.145000\n  averaged dists:\n    0: 0.853187\n    1: 0.146813\n"
     ]
    }
   ],
   "source": [
    "clean_sym_circ = sym_circ.copy()\n",
    "\n",
    "clean_backend = AerBackend()\n",
    "clean_backend.compile_circuit(clean_sym_circ)\n",
    "\n",
    "if not use_remote_simulator:\n",
    "    clean_sym_circ_counts = clean_backend.get_result(clean_backend.process_circuit(clean_sym_circ, n_shots=n_shots)).get_counts()\n",
    "else:\n",
    "    qis_clean_sym_circ = tk_to_qiskit(clean_sym_circ)\n",
    "    qis_clean_sym_circ_counts = execute(qis_clean_sym_circ, backend=provider.get_backend(\"ibmq_qasm_simulator\"), shots=8000).result().get_counts()\n",
    "    clean_sym_circ_counts = qiskit_pytket_counts(qis_clean_sym_circ_counts)\n",
    "\n",
    "print(\"clean sym circ dists:\")\n",
    "display_sym_dists(process_sym_counts(sym_circ_info, clean_sym_circ_counts))"
   ]
  },
  {
   "cell_type": "code",
   "execution_count": 79,
   "metadata": {},
   "outputs": [
    {
     "output_type": "stream",
     "name": "stdout",
     "text": [
      "noisy sym circ dists:\n  postselected dists:\n    experiment 0:\n      0: 0.804554\n      1: 0.195446\n    experiment 1:\n      0: 0.798861\n      1: 0.201139\n  averaged dists:\n    0: 0.801708\n    1: 0.198292\n"
     ]
    }
   ],
   "source": [
    "noisy_sym_circ = sym_circ.copy()\n",
    "noisy_backend.compile_circuit(noisy_sym_circ)\n",
    "\n",
    "if not use_remote_simulator:\n",
    "    noisy_sym_circ_counts = noisy_backend.get_result(noisy_backend.process_circuit(noisy_sym_circ, n_shots=n_shots)).get_counts()\n",
    "else:\n",
    "    qis_noisy_sym_circ = tk_to_qiskit(noisy_sym_circ)\n",
    "    qis_noisy_sym_circ_counts = execute(qis_noisy_sym_circ, backend=provider.get_backend(\"ibmq_qasm_simulator\"), shots=8000, noise_model=noise_model).result().get_counts()\n",
    "    noisy_sym_circ_counts = qiskit_pytket_counts(qis_noisy_sym_circ_counts)\n",
    "\n",
    "print(\"noisy sym circ dists:\")\n",
    "display_sym_dists(process_sym_counts(sym_circ_info, noisy_sym_circ_counts))"
   ]
  },
  {
   "cell_type": "code",
   "execution_count": 80,
   "metadata": {},
   "outputs": [
    {
     "output_type": "stream",
     "name": "stdout",
     "text": [
      "mitigated sym circ dists:\n  postselected dists:\n    experiment 0:\n      0: 0.808392\n      1: 0.191608\n    experiment 1:\n      0: 0.804018\n      1: 0.195982\n  averaged dists:\n    0: 0.806205\n    1: 0.193795\n"
     ]
    }
   ],
   "source": [
    "sym_circ_meas_filter = error_calibration(total_sym_qubits, noise_model, use_remote_simulator=use_remote_simulator)\n",
    "noisy_sym_circ_counts = dict([(\"\".join([str(b) for b in bitstr]), count) for bitstr, count in noisy_sym_circ_counts.items()])\n",
    "mitigated_sym_circ_counts = sym_circ_meas_filter.apply(noisy_sym_circ_counts)\n",
    "mitigated_sym_circ_counts = dict([(tuple([int(b) for b in bitstr]), count) for bitstr, count in mitigated_sym_circ_counts.items()])\n",
    "mitigated_sym_dists = process_sym_counts(sym_circ_info, mitigated_sym_circ_counts)\n",
    "\n",
    "print(\"mitigated sym circ dists:\")\n",
    "display_sym_dists(mitigated_sym_dists)"
   ]
  },
  {
   "cell_type": "code",
   "execution_count": 81,
   "metadata": {},
   "outputs": [
    {
     "output_type": "stream",
     "name": "stdout",
     "text": [
      "desired results: [0.853553390593274, 0.14644660940672607]\nactual results: [0.8062050577421851, 0.19379494225781496]\nerror: 0.066961\n"
     ]
    }
   ],
   "source": [
    "basis = list(product([0,1], repeat=n_qubits))\n",
    "analytic_circ_probs = []\n",
    "mitigated_sym_circ_probs = []\n",
    "for b in basis:\n",
    "    if b in circ_distribution:\n",
    "        analytic_circ_probs.append(circ_distribution[b])\n",
    "    else:\n",
    "        analytic_circ_probs.append(0)\n",
    "    if b in mitigated_sym_dists[\"avg_dist\"]:\n",
    "        mitigated_sym_circ_probs.append(mitigated_sym_dists[\"avg_dist\"][b])\n",
    "    else:\n",
    "        mitigated_sym_circ_prob.append(0)\n",
    "\n",
    "print(\"desired results: %s\" % analytic_circ_probs)\n",
    "print(\"actual results: %s\" % mitigated_sym_circ_probs)\n",
    "\n",
    "error = np.linalg.norm(np.array(mitigated_sym_circ_probs) - np.array(analytic_circ_probs))\n",
    "print(\"error: %f\" % error)"
   ]
  }
 ]
}