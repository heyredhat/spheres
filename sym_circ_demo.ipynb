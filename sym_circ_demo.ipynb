{
 "metadata": {
  "language_info": {
   "codemirror_mode": {
    "name": "ipython",
    "version": 3
   },
   "file_extension": ".py",
   "mimetype": "text/x-python",
   "name": "python",
   "nbconvert_exporter": "python",
   "pygments_lexer": "ipython3",
   "version": "3.8.5-final"
  },
  "orig_nbformat": 2,
  "kernelspec": {
   "name": "python3",
   "display_name": "Python 3"
  }
 },
 "nbformat": 4,
 "nbformat_minor": 2,
 "cells": [
  {
   "cell_type": "code",
   "execution_count": 1,
   "metadata": {},
   "outputs": [
    {
     "output_type": "display_data",
     "data": {
      "text/plain": "<IPython.core.display.HTML object>",
      "text/html": "<div id=\"glowscript\" class=\"glowscript\"></div>"
     },
     "metadata": {}
    },
    {
     "output_type": "display_data",
     "data": {
      "text/plain": "<IPython.core.display.Javascript object>",
      "application/javascript": "if (typeof Jupyter !== \"undefined\") { window.__context = { glowscript_container: $(\"#glowscript\").removeAttr(\"id\")};}else{ element.textContent = ' ';}"
     },
     "metadata": {}
    },
    {
     "output_type": "stream",
     "name": "stdout",
     "text": [
      "7 total qubits for symmetrized circuit\nanalytical dist for original circuit:\n  00: 0.146447\n  01: 0.853553\n"
     ]
    }
   ],
   "source": [
    "from spheres import *\n",
    "from pytket.backends.ibm import AerBackend, AerStateBackend, IBMQBackend\n",
    "from pytket.qiskit import tk_to_qiskit\n",
    "\n",
    "n_qubits = 2\n",
    "depth = 5 \n",
    "n_shots = 8000 \n",
    "\n",
    "n_copies = 2\n",
    "every = 2\n",
    "pairwise = True\n",
    "reuse_cntrls = False\n",
    "\n",
    "latex = False\n",
    "use_remote_simulator = False\n",
    "error_mitigation = True\n",
    "\n",
    "################################################################################################\n",
    "\n",
    "circ_specification = random_circuit(n_qubits=n_qubits, depth=depth)\n",
    "circ = build_circuit(circ_specification)\n",
    "if latex:\n",
    "    circ.to_latex_file(\"circ.tex\")\n",
    "\n",
    "################################################################################################\n",
    "\n",
    "sym_circ_info = symmetrize_circuit(circ_specification,\n",
    "                                   n_copies=n_copies,\n",
    "                                   every=every, \n",
    "                                   pairwise=pairwise,\n",
    "                                   reuse_cntrls=reuse_cntrls)\n",
    "sym_circ = sym_circ_info[\"circuit\"]\n",
    "if latex:\n",
    "    sym_circ.to_latex_file(\"sym_circ.tex\")\n",
    "\n",
    "total_sym_qubits = len(sym_circ.qubits)\n",
    "print(\"%d total qubits for symmetrized circuit\" % total_sym_qubits)\n",
    "\n",
    "################################################################################################\n",
    "\n",
    "analytic_circ = circ.copy()\n",
    "state_backend = AerStateBackend()\n",
    "state_backend.compile_circuit(analytic_circ)\n",
    "circ_distribution = state_backend.get_result(state_backend.process_circuit(analytic_circ)).get_distribution()\n",
    "\n",
    "print(\"analytical dist for original circuit:\")\n",
    "for bitstr, prob in circ_distribution.items():\n",
    "    print(\"  %s: %f\" % (\"\".join([str(b) for b in bitstr]), prob))"
   ]
  },
  {
   "cell_type": "code",
   "execution_count": 2,
   "metadata": {},
   "outputs": [
    {
     "output_type": "stream",
     "name": "stderr",
     "text": [
      "WARNING:qiskit.providers.aer.noise.noise_model:WARNING: quantum error already exists for instruction \"u1\" on qubits [0] , appending additional error.\n",
      "WARNING:qiskit.providers.aer.noise.noise_model:WARNING: quantum error already exists for instruction \"u1\" on qubits [1] , appending additional error.\n",
      "WARNING:qiskit.providers.aer.noise.noise_model:WARNING: quantum error already exists for instruction \"u1\" on qubits [3] , appending additional error.\n",
      "WARNING:qiskit.providers.aer.noise.noise_model:WARNING: quantum error already exists for instruction \"u1\" on qubits [4] , appending additional error.\n",
      "WARNING:qiskit.providers.aer.noise.noise_model:WARNING: quantum error already exists for instruction \"u1\" on qubits [5] , appending additional error.\n",
      "WARNING:qiskit.providers.aer.noise.noise_model:WARNING: quantum error already exists for instruction \"u1\" on qubits [6] , appending additional error.\n"
     ]
    }
   ],
   "source": [
    "from qiskit import QuantumCircuit, QuantumRegister, Aer, execute, IBMQ, transpile\n",
    "from qiskit.providers.ibmq.managed import IBMQJobManager\n",
    "from qiskit.ignis.mitigation.measurement import complete_meas_cal, CompleteMeasFitter\n",
    "from qiskit.providers.aer.noise import NoiseModel\n",
    "import qiskit.providers.aer.noise as noise\n",
    "\n",
    "provider = IBMQ.load_account()\n",
    "job_manager = IBMQJobManager()\n",
    "\n",
    "def error_calibration(n_qubits, noise_model, use_remote_simulator=False):\n",
    "    meas_calibs, state_labels = complete_meas_cal(qr=QuantumRegister(n_qubits), circlabel='mcal')\n",
    "    if not use_remote_simulator:\n",
    "        noise_job = execute(meas_calibs, backend=Aer.get_backend(\"qasm_simulator\"), shots=n_shots, noise_model=noise_model)\n",
    "        cal_results = noise_job.result()\n",
    "    else:\n",
    "        noise_job = job_manager.run(meas_calibs, backend=provider.get_backend(\"ibmq_qasm_simulator\"), shots=n_shots, noise_model=noise_model)\n",
    "        cal_results = noise_job.results().combine_results()                                  \n",
    "    meas_fitter = CompleteMeasFitter(cal_results, state_labels, circlabel='mcal')\n",
    "    return meas_fitter.filter\n",
    "\n",
    "def build_noise_model(from_backend=None, n_qubits=None, on_qubits=None):\n",
    "    if from_backend:\n",
    "        return NoiseModel.from_backend(IBMQ.providers()[0].get_backend(from_backend))\n",
    "    else:\n",
    "        if not n_qubits:\n",
    "            n_qubits = len(on_qubits)\n",
    "        noise_model = NoiseModel()\n",
    "        error_1 = noise.depolarizing_error(0.001, 1)\n",
    "        error_2 = noise.depolarizing_error(0.01 , 2)\n",
    "\n",
    "        for qubit in list(range(n_qubits)):\n",
    "            noise_model.add_quantum_error(noise.depolarizing_error(0.000001, 1), ['u1'], [qubit])\n",
    "        for qubit in on_qubits:\n",
    "            noise_model.add_quantum_error(error_1, ['u1', 'u2', 'u3'], [qubit])\n",
    "        for pair in product(on_qubits, repeat=2):\n",
    "            noise_model.add_quantum_error(error_2, ['cx'], pair)\n",
    "        return noise_model\n",
    "\n",
    "circ_noise_model = build_noise_model(on_qubits=list(range(n_qubits)))\n",
    "\n",
    "# no noise on cntrl qubits!\n",
    "sym_circ_noise_model = build_noise_model(n_qubits=total_sym_qubits, on_qubits=list(range(len(sym_circ_info[\"cntrl_qubits\"]), total_sym_qubits)))"
   ]
  },
  {
   "cell_type": "code",
   "execution_count": 3,
   "metadata": {},
   "outputs": [
    {
     "output_type": "stream",
     "name": "stdout",
     "text": [
      "noisy dist for original circuit:\n  00: 0.150500\n  01: 0.824375\n  10: 0.010625\n  11: 0.014500\n"
     ]
    }
   ],
   "source": [
    "noisy_circ = circ.copy().measure_all()\n",
    "noisy_circ_backend = AerBackend(circ_noise_model)\n",
    "noisy_circ_backend.compile_circuit(noisy_circ)\n",
    "noisy_circ_result = noisy_circ_backend.get_result(noisy_circ_backend.process_circuit(noisy_circ, n_shots=n_shots))\n",
    "noisy_circ_dists = noisy_circ_result.get_distribution()\n",
    "\n",
    "print(\"noisy dist for original circuit:\")\n",
    "for bitstr, prob in noisy_circ_dists.items():\n",
    "    print(\"  %s: %f\" % (\"\".join([str(b) for b in bitstr]), prob))"
   ]
  },
  {
   "cell_type": "code",
   "execution_count": 4,
   "metadata": {},
   "outputs": [
    {
     "output_type": "stream",
     "name": "stdout",
     "text": [
      "mitigated dist for original circuit:\n  00: 0.150500\n  01: 0.824375\n  10: 0.010625\n  11: 0.014500\n"
     ]
    }
   ],
   "source": [
    "if error_mitigation:\n",
    "    circ_meas_filter = error_calibration(n_qubits, circ_noise_model)\n",
    "    noisy_circ_counts = dict([(\"\".join([str(b) for b in bitstr]), count) for bitstr, count in noisy_circ_result.get_counts().items()])\n",
    "    mitigated_circ_counts = circ_meas_filter.apply(noisy_circ_counts)\n",
    "    mitigated_circ_dists = probs_from_counts(mitigated_circ_counts)\n",
    "\n",
    "    print(\"mitigated dist for original circuit:\")\n",
    "    for bitstr, prob in mitigated_circ_dists.items():\n",
    "        print(\"  %s: %f\" % (bitstr, prob))"
   ]
  },
  {
   "cell_type": "code",
   "execution_count": 5,
   "metadata": {},
   "outputs": [],
   "source": [
    "def display_sym_dists(sym_dists):\n",
    "    exp_dists, avg_dist = sym_dists[\"exp_dists\"], sym_dists[\"avg_dist\"], \n",
    "    print(\"  postselected dists:\")\n",
    "    for i, dist in enumerate(exp_dists):\n",
    "        print(\"    experiment %d:\" % i)\n",
    "        for bitstr, prob in dist.items():\n",
    "            print(\"      %s: %f\" % (\"\".join([str(b) for b in bitstr]), prob))\n",
    "    print(\"  averaged dists:\")\n",
    "    for bitstr, prob in avg_dist.items():\n",
    "        print(\"    %s: %f\" % (\"\".join([str(b) for b in bitstr]), prob)) \n",
    "\n",
    "def qiskit_pytket_counts(counts):\n",
    "    return dict([(tuple([int(b) for b in \"\".join(bitstr.split())][::-1]), count) for bitstr, count in counts.items()])"
   ]
  },
  {
   "cell_type": "code",
   "execution_count": 6,
   "metadata": {},
   "outputs": [
    {
     "output_type": "stream",
     "name": "stdout",
     "text": [
      "clean sym circ dists:\n  postselected dists:\n    experiment 0:\n      00: 0.147750\n      01: 0.852250\n    experiment 1:\n      00: 0.147500\n      01: 0.852500\n  averaged dists:\n    00: 0.147625\n    01: 0.852375\n"
     ]
    }
   ],
   "source": [
    "clean_sym_circ = sym_circ.copy()\n",
    "\n",
    "clean_backend = AerBackend()\n",
    "clean_backend.compile_circuit(clean_sym_circ)\n",
    "\n",
    "if not use_remote_simulator:\n",
    "    clean_sym_circ_counts = clean_backend.get_result(clean_backend.process_circuit(clean_sym_circ, n_shots=n_shots)).get_counts()\n",
    "else:\n",
    "    qis_clean_sym_circ = tk_to_qiskit(clean_sym_circ)\n",
    "    qis_clean_sym_circ_counts = execute(qis_clean_sym_circ, backend=provider.get_backend(\"ibmq_qasm_simulator\"), shots=8000).result().get_counts()\n",
    "    clean_sym_circ_counts = qiskit_pytket_counts(qis_clean_sym_circ_counts)\n",
    "\n",
    "print(\"clean sym circ dists:\")\n",
    "display_sym_dists(process_sym_counts(sym_circ_info, clean_sym_circ_counts))"
   ]
  },
  {
   "cell_type": "code",
   "execution_count": 7,
   "metadata": {},
   "outputs": [
    {
     "output_type": "stream",
     "name": "stdout",
     "text": [
      "noisy sym circ dists:\n  postselected dists:\n    experiment 0:\n      00: 0.147426\n      01: 0.836916\n      10: 0.005042\n      11: 0.010616\n    experiment 1:\n      00: 0.150345\n      01: 0.834395\n      10: 0.005042\n      11: 0.010218\n  averaged dists:\n    00: 0.148885\n    01: 0.835656\n    10: 0.005042\n    11: 0.010417\n"
     ]
    }
   ],
   "source": [
    "noisy_sym_circ = sym_circ.copy()\n",
    "noisy_sym_circ_backend = AerBackend(sym_circ_noise_model)\n",
    "noisy_sym_circ_backend.compile_circuit(noisy_sym_circ)\n",
    "\n",
    "if not use_remote_simulator:\n",
    "    noisy_sym_circ_counts = noisy_sym_circ_backend.get_result(noisy_sym_circ_backend.process_circuit(noisy_sym_circ, n_shots=n_shots)).get_counts()\n",
    "else:\n",
    "    qis_noisy_sym_circ = tk_to_qiskit(noisy_sym_circ)\n",
    "    qis_noisy_sym_circ_counts = execute(qis_noisy_sym_circ, backend=provider.get_backend(\"ibmq_qasm_simulator\"), shots=8000, noise_model=sym_circ_noise_model).result().get_counts()\n",
    "    noisy_sym_circ_counts = qiskit_pytket_counts(qis_noisy_sym_circ_counts)\n",
    "\n",
    "print(\"noisy sym circ dists:\")\n",
    "noisy_sym_circ_dists = process_sym_counts(sym_circ_info, noisy_sym_circ_counts)\n",
    "display_sym_dists(noisy_sym_circ_dists)"
   ]
  },
  {
   "cell_type": "code",
   "execution_count": 8,
   "metadata": {},
   "outputs": [
    {
     "output_type": "stream",
     "name": "stdout",
     "text": [
      "mitigated sym circ dists:\n  postselected dists:\n    experiment 0:\n      00: 0.147426\n      01: 0.836916\n      10: 0.005042\n      11: 0.010616\n    experiment 1:\n      00: 0.150345\n      01: 0.834395\n      10: 0.005042\n      11: 0.010218\n  averaged dists:\n    00: 0.148885\n    01: 0.835656\n    10: 0.005042\n    11: 0.010417\n"
     ]
    }
   ],
   "source": [
    "if error_mitigation:\n",
    "    sym_circ_meas_filter = error_calibration(total_sym_qubits, sym_circ_noise_model, use_remote_simulator=use_remote_simulator)\n",
    "    noisy_sym_circ_counts = dict([(\"\".join([str(b) for b in bitstr]), count) for bitstr, count in noisy_sym_circ_counts.items()])\n",
    "    mitigated_sym_circ_counts = sym_circ_meas_filter.apply(noisy_sym_circ_counts)\n",
    "    mitigated_sym_circ_counts = dict([(tuple([int(b) for b in bitstr]), count) for bitstr, count in mitigated_sym_circ_counts.items()])\n",
    "    mitigated_sym_circ_dists = process_sym_counts(sym_circ_info, mitigated_sym_circ_counts)\n",
    "\n",
    "    print(\"mitigated sym circ dists:\")\n",
    "    display_sym_dists(mitigated_sym_circ_dists)"
   ]
  },
  {
   "cell_type": "code",
   "execution_count": 9,
   "metadata": {},
   "outputs": [
    {
     "output_type": "stream",
     "name": "stdout",
     "text": [
      "expected results: [0.14644660940672635, 0.8535533905932736, 0, 0]\nactual circ results: [0.15050002763494622, 0.8243750211132181, 0.010624985488135846, 0.014499965763699673]\nactual sym_circ results: [0.1488853497249291, 0.835655520955001, 0.0050424627775838456, 0.010416666542486203]\n\ncirc error: 0.034510\nsym circ error: 0.021453\n"
     ]
    }
   ],
   "source": [
    "basis = list(product([0,1], repeat=n_qubits))\n",
    "expected_probs = []\n",
    "actual_circ_probs = []\n",
    "actual_sym_circ_probs = []\n",
    "for b in basis:\n",
    "    if b in circ_distribution:\n",
    "        expected_probs.append(circ_distribution[b])\n",
    "    else:\n",
    "        expected_probs.append(0)\n",
    "    bs = \"\".join([str(b_) for b_ in b]) \n",
    "    if error_mitigation:\n",
    "        if bs in mitigated_circ_dists.keys():\n",
    "            actual_circ_probs.append(mitigated_circ_dists[bs])\n",
    "        else:\n",
    "            actual_circ_probs.append(0)    \n",
    "        if b in mitigated_sym_circ_dists[\"avg_dist\"]:\n",
    "            actual_sym_circ_probs.append(mitigated_sym_circ_dists[\"avg_dist\"][b])\n",
    "        else:\n",
    "            actual_sym_circ_probs.append(0)\n",
    "    else:\n",
    "        if bs in noisy_circ_dists:\n",
    "            actual_circ_probs.append(noisy_circ_dists[bs])\n",
    "        else:\n",
    "            actual_circ_probs.append(0)    \n",
    "        if b in noisy_sym_circ_dists[\"avg_dist\"]:\n",
    "            actual_sym_circ_probs.append(noisy_sym_circ_dists[\"avg_dist\"][b])\n",
    "        else:\n",
    "            actual_sym_circ_probs.append(0)\n",
    "\n",
    "print(\"expected results: %s\" % expected_probs)\n",
    "print(\"actual circ results: %s\" % actual_circ_probs)\n",
    "print(\"actual sym_circ results: %s\" % actual_sym_circ_probs)\n",
    "print()\n",
    "print(\"circ error: %f\" % np.linalg.norm(np.array(actual_circ_probs) - np.array(expected_probs)))\n",
    "print(\"sym circ error: %f\" % np.linalg.norm(np.array(actual_sym_circ_probs) - np.array(expected_probs)))"
   ]
  },
  {
   "cell_type": "code",
   "execution_count": null,
   "metadata": {},
   "outputs": [],
   "source": []
  }
 ]
}