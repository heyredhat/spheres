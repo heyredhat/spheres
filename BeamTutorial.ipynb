{
 "cells": [
  {
   "cell_type": "markdown",
   "metadata": {},
   "source": [
    "# Majorana Stars and Laser Beams\n",
    "\n",
    "This week we'll be exploring yet another fascinating application of our favorite construction, the \"Majorana stars.\" \n",
    "\n",
    "We know well how we can view constellations on the 2-sphere as SU(2) representations, in other words, as spin-j states (up to phase). In other words, these states represent the intrinsic angular momentum of a massive particle. On the other hand, massless particles also have a form of intrinsic angular momentum: polarization. Indeed, we've seen how we can use the sphere to represent polarization states: a trick that was known even to Poincare. "
   ]
  },
  {
   "cell_type": "markdown",
   "metadata": {},
   "source": [
    "To refresh your memory:\n"
   ]
  },
  {
   "cell_type": "code",
   "execution_count": null,
   "metadata": {},
   "outputs": [],
   "source": [
    "from spheres import *\n",
    "import vpython as vp\n",
    "\n",
    "qubit = basis(2, 0, 'y')\n",
    "xyz = spinor_xyz(qubit)\n",
    "\n",
    "scene = vp.canvas(background=vp.color.white)\n",
    "vsphere = vp.sphere(pos=vp.vector(2,0,0), color=vp.color.blue, opacity=0.3)\n",
    "varrow = vp.arrow(pos=vsphere.pos, axis=vp.vector(*xyz))\n",
    "\n",
    "x, y = components(qubit).real\n",
    "vpt = vp.sphere(pos=vp.vector(x,y,0), radius=0.1, color=vp.color.yellow, make_trail=True)\n",
    "\n",
    "for t in np.linspace(0, 2*np.pi, 8000):\n",
    "    x, y = components(np.exp(1j*t)*qubit).real\n",
    "    vpt.pos = vp.vector(x,y,0)\n",
    "    vp.rate(1000)"
   ]
  },
  {
   "cell_type": "markdown",
   "metadata": {},
   "source": [
    "Given a spin-$\\frac{1}{2}$ state quantized along the $Z$ axis, we can obtain the corresponding polarization ellipse simply by rotating the overall phase of the state, and taking the real part of its two components. If we treat these two real numbers as $(x, y)$ coordinates in the plane, they trace out the correct ellipse. In this basis, $Z+$/$Z-$ correspond to horizontal/vertical polarization, $X+$/$X-$ correspond to diagonal/antidiagonal polarization, and $Y+$/$Y-$ correspond to clockwise/counterclockwise circular polarization. Any arbitrary point on the sphere, then, corresponds to some ellipse in the plane. In this case, we'd take the $Y$ axis to coincide with the linear momentum axis of the massless particle, and the polarization state describes how the particle is \"corkscrewing\"/oscillating in the plane orthogonal to its motion. A photon is of course a spin-1 particle, but since it's massless, one of its polarization components ($j=0$) is frozen out, and so it reduces down to a two state system.\n",
    "\n",
    "More geometrically:\n",
    "\n",
    "<img width=400 src=\"img/polarization_ellipse.jpeg\">\n",
    "\n",
    "On the other hand, it's less well known, but one can interpret a full spin-$1$ state of two stars geometrically in terms of polarization. According to <a href='https://arxiv.org/abs/1903.01304'>Bliokh, Alonso, and Dennis (and Hannay)</a>: the unit vector which bisects the two stars picks out a direction normal to a plane. Projecting the two points onto this plane, one obtains the two foci of the polarization ellipse. In other words, a spin-1 state specifies an ellipse *oriented in 3D*. (As the paper points out, however, this construction gets the size of ellipse wrong, and they suggest a slight variant as a remedy.) \n",
    "\n",
    "<img width=300 src=\"img/spin1_polarization.png\">\n",
    "\n",
    "In essence, what one was doing in the first case was simplifying things by already quantizing relative to the linear momentum of the photon."
   ]
  },
  {
   "cell_type": "markdown",
   "metadata": {},
   "source": [
    "<hr>\n",
    "\n",
    "So we have this correspondence between $X, Y, Z$ directions on the sphere and diagonal/antidiagonal, clockwise/counterclockwise, horizontal/vertical polarization states in the plane.\n",
    "\n",
    "This manifests as well in the oscillator representation. As we've seen, we can \"second quantize\" a qubit, introducing a quantum harmonic oscillator to each of its two basis states $\\mid \\uparrow \\rangle$ and $\\mid \\downarrow \\rangle$, and interpret the resulting Fock space in terms of a \"tower\" of spin states of all possible $j$ values. To wit, the $\\mid 00 \\rangle$ state corresponds to spin-$0$, the $\\mid 10 \\rangle$ and $\\mid 01\\rangle$ states correspond to the two states of a spin-$\\frac{1}{2}$, the $\\mid 20 \\rangle$, $\\mid 11 \\rangle$, $\\mid 02 \\rangle$ states correspond to the three states of a spin-$1$, and so on. By a standard construction, we can second quantize qubit operators to act on the whole Fock space, obtaining second quantized versions of the Pauli matrices, which generate simultaneous rotations in each of the spin sectors. \n",
    "\n",
    "If, however, we consider the position wavefunctions of the two oscillators, which is the same thing as the position wavefunction of a single 2D oscillator in the plane, then we notice something interesting. $X$ eigenstates correspond to diagonally/antidiagonally symmetric position states, $Y$ eigenstates correspond to circularly symmetric position states, and $Z$ eigenstates correspond to horizontally/vertically symmetric position states. \n"
   ]
  },
  {
   "cell_type": "code",
   "execution_count": null,
   "metadata": {},
   "outputs": [],
   "source": [
    "from spheres import *\n",
    "from spheres.visualization import *\n",
    "\n",
    "scene = vp.canvas(background=vp.color.white)\n",
    "s = SchwingerSpheres(scene=scene, max_ex=5, show_plane=True)\n",
    "s.random(); s.measure('x')"
   ]
  },
  {
   "cell_type": "markdown",
   "metadata": {},
   "source": [
    "Does this have a literal physical interpretation? Certainly, if you want to analyze a 2D quantum oscillator, it might be useful to exploit this \"stellar decomposition.\" But are we still talking about polarization?\n",
    "\n",
    "It turns out that the correct interpretation isn't in terms of the polarization of light, in other words, its intrinsic angular momentum, but in terms of the <a href=\"https://en.wikipedia.org/wiki/Orbital_angular_momentum_of_light\">*orbital* angular momentum of light</a>, its extrinsic angular momentum--with an interesting twist, as we'll see!\n",
    "\n",
    "We're perhaps more familiar with the case for a massive particle, which has both a spin and orbital angular momentum. The latter given by $L = Q \\times P$, or:\n",
    "\n",
    "$$ L_{x} = Q_{y}P_{z} - Q_{z}P_{y} $$\n",
    "$$ L_{y} = Q_{z}P_{x} - Q_{x}P_{z} $$\n",
    "$$ L_{z} = Q_{x}P_{y} - Q_{y}P_{x} $$\n",
    "\n",
    "The total angular momentum is the sum of the spin and orbital parts. \n",
    "\n",
    "Well, the same goes for light! On the one hand, if a light beam is cylindrically symmetric, and one choses the origin at the beam axis, then the orbital angular momentum will be 0. On the other hand, one can consider helical modes of light, such that the beam's wavefront is corkscrewing around an \"optical vortex' at the center.\n",
    "\n",
    "<img width=200 src=\"img/corkscrew.png\">\n",
    "\n",
    "One imagines polarization itself as a kind of corkscrewing, but this is actually a second level kind of corkscrewing. Consider:\n",
    "\n",
    "<img width=400 src=\"img/polarization_and_wavefront.png\">\n",
    "\n",
    "The idea is we're considering a spatial cross section of a beam, such that the polarization state actually varies across it! In other words, the polarization is a property of \"each point\" as it were, but the OAM is a property of the overall beam. <a href=\"https://www.colgate.edu/media/5371/download\">This</a> is a great reference."
   ]
  },
  {
   "cell_type": "markdown",
   "metadata": {},
   "source": [
    "<hr>\n",
    "\n",
    "We'll be considering \"structured Gaussian beams.\" They are solutions to the \"paraxial wave equation,\" in other words, the regime of something like a laser, where pretty much everything that's going on is going on close to the axis of propagation (the small angle apparoximation). Structured Gaussian beams are \"self-similar,\" in that their cross-sections all look the same up to scaling. Picture a Gaussian in 3D: all its 2D cross sections look like the same Gaussian, only scaled up and down. The structured part is going to make things interesting!\n",
    "\n",
    "Following <a href=\"http://events.saip.org.za/getFile.py/access?contribId=365&sessionId=18&resId=0&materialId=paper&confId=7\">Bassa and Konrad</a>, we can turn Maxwell's equations into scalar wave equations for each component of the electric and magnetic fields:\n",
    "\n",
    "$$ (\\nabla^{2}\\Psi - \\frac{1}{c^2}\\frac{\\partial^{2}}{\\partial t^{2}}) = 0 $$\n",
    "\n",
    "If we consider a laser beam heading in one direction, monochromatic,  whose transverse beam profile $u(x,y,z)$ varies slowly as it zips along in the z direction, we can separate out the time part $\\Psi(x,y,z,t) = u(x, y, z)e^{i(kz-\\omega t)}$, where as usual $k$ is the wave number and $\\omega$ is the angular frequency, and consider the paraxial wave equation: \n",
    "\n",
    "$$ 2ik\\frac{\\partial}{\\partial z}u(x, y, z) = -(\\frac{\\partial^{2}}{\\partial x^{2}} + \\frac{\\partial^2}{\\partial y^2})u(x, y, z) $$\n",
    "\n",
    "Looking at this equation, it might occur to you that it looks exactly like the Schrodinger equation for a two dimensional free particle,  where the $z$ coordinate is playing the role of time! (And the wave number is acting like Planck's constant!) We're just talking about a classical EM wave, and yet here we find a quantum equation staring us in the face. It indeed it seems we can use all the machinery of quantum mechanics to deal with this \"wavefunction.\"\n",
    "\n",
    "Indeed, we could consider the two dimensional quantum harmonic oscillator, as we did originally, and consider all of its energy modes: they form a complete basis for wavefunctions on the plane. And we could decompose our *classical light beam* in terms of the basis states of the *quantum 2D oscillator*. And so, we'll be able to associate to the beam a set of Majorana constellations. And indeed, we can employ the whole formalism of creation and annihilation operators, and so forth. And in fact, for structured Gaussian beams, the 2D quantum harmonic oscillator Hamiltonian will describe the propagation of the beam: the z-axis will play the role of time. \n",
    "\n",
    "Of course, to actually consider a *quantum light beam*, we have to second quantize: for each mode into which we've decomposed the beam, we'll have to introduce a quantum harmonic oscillator, which counts the number of photons in that mode, and so on, and so forth. \n",
    "\n",
    "And in fact, we'll be considering a slight variation on the 2D oscillator modes: the Laguerre-Gaussian modes. \n",
    "\n",
    "But I want to emphasize this bizarre classical/quantum incest. We can represent the classical light beam as a state vector, which represents the transverse beam profile of the electric field (which is measurable)--but this is different from the wavefunction of a photon in that mode! In the first case, the amplitude squared of the wavefunction represents the intensity of the electric field, whereas in the second case the amplitude squared represents the probability for finding a photon in that state. \n",
    "\n",
    "<hr>"
   ]
  },
  {
   "cell_type": "markdown",
   "metadata": {},
   "source": [
    "Given that the energy states of the quantum harmonic oscillator can be written in terms of the Hermite polynomials, it makes sense that we could decompose our classical light beam into the so-called <a href=\"https://en.wikipedia.org/wiki/Gaussian_beam#Hermite-Gaussian_modes\">Hermite-Gaussian modes</a>, which essentially consist in two Hermite polynomials in x and y multiplied by various exponentials. Shamelessly ripped from wikipedia:\n",
    "\n",
    "<img width=400 src=\"img/hermite_gaussian.png\">\n",
    "\n",
    "Here $E_{0}$ hides the normalization. For more details, consult the wikpedia article linked above.\n",
    "\n",
    "$w_{0}$ is the \"waist radius\" or \"beam waist\", which measures the size of the beam at the point of focus $z=0$, and $w(z)$ is the beam width. \n",
    "\n",
    "$z_{R}$ is the \"Rayleigh distance\": $\\frac{\\pi w_{0}^2 n}{\\lambda}$, where $\\lambda$ is the wavelength and $n$ is the index of refraction. \n",
    "\n",
    "$k$ is the wave number: $\\frac{2\\pi n}{\\lambda}$. \n",
    "\n",
    "$R(z) = z(1 + (\\frac{z_{r}}{z})^2)$ is the radius of curvature of the beam's wavefronts.\n",
    "\n",
    "And finally, $\\psi(z) = (N+1)\\arctan(\\frac{z}{z_{R}})$ is the Gouy phase, which has a great name!\n",
    "\n",
    "$N = l + m$, where $l$ and $m$ denote which Hermite polynomials we're using. \n",
    "\n",
    "This picture is illuminating. Thanks again wikipedia!\n",
    "\n",
    "<img width=400 src=\"img/beam_width.png\">\n",
    "\n",
    "Okay. But morally speaking, it's just a 2D quantum harmonic oscillator state energy state with some bells and whistles.\n",
    "\n",
    "Compare the wavefunction for a 1D quantum harmonic oscillator energy state:\n",
    "\n",
    "<img width=300 src=\"img/hermite.png\">\n",
    "\n",
    "<hr>"
   ]
  },
  {
   "cell_type": "markdown",
   "metadata": {},
   "source": [
    "In what follows, however, we'll be following <a href=\"https://arxiv.org/abs/1901.06987\">this reference</a>, and so use instead the Laguerre-Gaussian modes. We'll see that the Hermite-Gaussian modes have horizontal/vertical symmetries in the plane, while the Laguerre-Gaussian modes have circular symmetries. And in fact, by using $X, Y, Z$ rotations, we'll be able to rotate Hermite-Gaussian modes into Laguerre-Gaussian modes, and vice versa, and even get modes that are in between (Hermite-Laguerre-Gaussian modes). It's just the same correspondence from before that we saw in the relationship between the sphere of a qubit and the polarization ellipses.\n",
    "\n",
    "The Laguerre-Gauss modes are given by:\n",
    "\n",
    "<img width=400 src=\"img/laguerre_gaussian.png\">\n",
    "\n",
    "Here $\\textbf{r}$ is understood as $(r, \\phi, w)$: we're working in cylindrical coordinates, where $w$ is $w(z)$ from above. The index $N$ takes integer values and $l$ runs from $-N$ to $N$ in steps of two. The parameterized the <a href=\"https://en.wikipedia.org/wiki/Laguerre_polynomials#Generalized_Laguerre_polynomials\">generalized Laguerre polynomials</a>.\n",
    "\n",
    "So any structured Gaussian beam of total order $N$ can be decomposed in terms of LG modes as:\n",
    "\n",
    "$$\\mid B \\rangle = \\sum_{l} c_{l}\\mid N, l \\rangle$$\n",
    "\n",
    "Where in honor of the classical/quantum crossover, we've employed the Dirac notation.\n",
    "\n",
    "So for $N=3$, say, we'd have states for $l=-3, -1, 1, 3$. We then simply associate these states with the $\\mid j, m \\rangle$ states of a spin-$\\frac{N}{2}$ particle, dividing $N$ and $l$ by $2$ to get the $j$ and $m$ values! Easy as pie!\n",
    "\n",
    "$$ \\mid 3, -3 \\rangle \\rightarrow \\mid \\frac{3}{2}, -\\frac{3}{2} \\rangle$$\n",
    "\n",
    "$$ \\mid 3, -1 \\rangle \\rightarrow \\mid \\frac{3}{2}, -\\frac{1}{2} \\rangle$$\n",
    "\n",
    "$$ \\mid 3, 1 \\rangle \\rightarrow \\mid \\frac{3}{2}, \\frac{1}{2} \\rangle$$\n",
    "\n",
    "$$ \\mid 3, 3 \\rangle \\rightarrow \\mid \\frac{3}{2}, \\frac{3}{2} \\rangle$$\n",
    "\n",
    "We can then decompose the spin state into its Majorana stars via the Majorana polynomial. \n",
    "\n",
    "We can then describe a structured Gaussian beam of *any order* as a tower of spin states aka a spin in a superposition of $j$ values, just as we've been doing. \n",
    "\n",
    "<img src=\"img/sg_reference.png\">"
   ]
  },
  {
   "cell_type": "markdown",
   "metadata": {},
   "source": [
    "<hr>\n",
    "\n",
    "Alright, so let's see it in action!\n",
    "\n",
    "...\n"
   ]
  },
  {
   "cell_type": "markdown",
   "metadata": {},
   "source": [
    "## Applications\n",
    "\n",
    "...\n",
    "\n",
    "## References:\n",
    "\n",
    "Gaussian Beams, Enrique J. Galvez\n",
    "\n",
    "Quantum metrology at the limit with extremal Majorana constellations\n",
    "\n",
    "Swings and roundabouts: Optical Poincare spheres for polarization and Gaussian beams\n",
    "\n",
    "Modal Majorana sphere and hidden symmetries of structured-Gaussian beams\n",
    "\n",
    "Geometric phases in 2D and 3D polarized fields: geometrical, dynamical, and topological aspects\n",
    "\n",
    "Generalized Gaussian beams in terms of Jones vectors\n",
    "\n",
    "https://en.wikipedia.org/wiki/Gaussian_beam\n",
    "\n",
    "Representation of the quantum and classical states of light carrying orbital angular momentum\n"
   ]
  },
  {
   "cell_type": "markdown",
   "metadata": {},
   "source": [
    "And so, in a sense, we can view a quantum structured Gaussian light beam as being the third quantization of a qubit. We start with a classical spinning object and first quantize it into a qubit. Then we second quantize the qubit to get all the higher representations of SU(2), which correspond to nothing more than *copies* of the original classical phase space, in terms of the 2D quantum harmonic oscillator. But these states also correspond to classical solutions of the paraxial Maxwell's equations for a light beam. And so we quantize a third time, introducing a harmonic oscillator to each of those modes, which count the number of photons in those states, and end up with a fully quantum beam... and then we start wondering if those states correspond to *yet another* other classical system... Ironically, we go from a sphere, to a plane, to a line... Maybe we should look for something 0 dimensional next. "
   ]
  },
  {
   "cell_type": "code",
   "execution_count": null,
   "metadata": {},
   "outputs": [],
   "source": []
  }
 ],
 "metadata": {
  "kernelspec": {
   "display_name": "Python 3",
   "language": "python",
   "name": "python3"
  },
  "language_info": {
   "codemirror_mode": {
    "name": "ipython",
    "version": 3
   },
   "file_extension": ".py",
   "mimetype": "text/x-python",
   "name": "python",
   "nbconvert_exporter": "python",
   "pygments_lexer": "ipython3",
   "version": "3.8.5"
  }
 },
 "nbformat": 4,
 "nbformat_minor": 2
}
