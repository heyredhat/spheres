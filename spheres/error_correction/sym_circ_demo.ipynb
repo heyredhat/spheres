{
 "metadata": {
  "language_info": {
   "codemirror_mode": {
    "name": "ipython",
    "version": 3
   },
   "file_extension": ".py",
   "mimetype": "text/x-python",
   "name": "python",
   "nbconvert_exporter": "python",
   "pygments_lexer": "ipython3",
   "version": "3.8.5-final"
  },
  "orig_nbformat": 2,
  "kernelspec": {
   "name": "python3",
   "display_name": "Python 3"
  }
 },
 "nbformat": 4,
 "nbformat_minor": 2,
 "cells": [
  {
   "cell_type": "code",
   "execution_count": 1,
   "metadata": {},
   "outputs": [],
   "source": [
    "from spheres import *\n",
    "from spheres.circuits import * \n",
    "\n",
    "from pytket.qiskit import tk_to_qiskit\n",
    "from pytket.backends.ibm import AerBackend, AerStateBackend, IBMQBackend\n",
    "\n",
    "from qiskit import QuantumCircuit, QuantumRegister, Aer, execute, IBMQ, transpile\n",
    "from qiskit.providers.aer import QasmSimulator\n",
    "from qiskit.providers.ibmq.managed import IBMQJobManager\n",
    "from qiskit.ignis.mitigation.measurement import complete_meas_cal, CompleteMeasFitter\n",
    "from qiskit.providers.aer.noise import NoiseModel, QuantumError, ReadoutError, pauli_error, depolarizing_error, thermal_relaxation_error\n",
    "\n",
    "n_qubits = 2\n",
    "depth = 20\n",
    "n_shots = 8000 \n",
    "\n",
    "n_copies = 3\n",
    "every = 2\n",
    "pairwise = True\n",
    "reuse_cntrls = False\n",
    "\n",
    "latex = False\n",
    "use_remote_simulator = True\n",
    "error_mitigation = False\n",
    "\n",
    "if error_mitigation or use_remote_simulator:\n",
    "    provider = IBMQ.load_account()\n",
    "    job_manager = IBMQJobManager()"
   ]
  },
  {
   "cell_type": "code",
   "execution_count": 2,
   "metadata": {},
   "outputs": [],
   "source": [
    "circ_specification = random_circuit(n_qubits=n_qubits, depth=depth)\n",
    "circ = build_circuit(circ_specification)\n",
    "if latex:\n",
    "    circ.to_latex_file(\"circ.tex\")"
   ]
  },
  {
   "cell_type": "code",
   "execution_count": 3,
   "metadata": {},
   "outputs": [
    {
     "output_type": "stream",
     "name": "stdout",
     "text": [
      "17 total qubits for symmetrized circuit\n"
     ]
    }
   ],
   "source": [
    "sym_circ_info = symmetrize_circuit(circ_specification,\n",
    "                                   n_copies=n_copies,\n",
    "                                   every=every, \n",
    "                                   pairwise=pairwise,\n",
    "                                   reuse_cntrls=reuse_cntrls)\n",
    "sym_circ = sym_circ_info[\"circuit\"]\n",
    "if latex:\n",
    "    sym_circ.to_latex_file(\"sym_circ.tex\")\n",
    "\n",
    "total_sym_qubits = len(sym_circ.qubits)\n",
    "print(\"%d total qubits for symmetrized circuit\" % total_sym_qubits)"
   ]
  },
  {
   "cell_type": "code",
   "execution_count": 4,
   "metadata": {},
   "outputs": [
    {
     "output_type": "stream",
     "name": "stdout",
     "text": [
      "analytical dist for original circuit:\n  00: 0.130362\n  01: 0.255362\n  10: 0.244638\n  11: 0.369638\n"
     ]
    }
   ],
   "source": [
    "analytic_circ = circ.copy()\n",
    "state_backend = AerStateBackend()\n",
    "AerStateBackend().compile_circuit(analytic_circ)\n",
    "circ_distribution = state_backend.get_result(state_backend.process_circuit(analytic_circ)).get_distribution()\n",
    "\n",
    "print(\"analytical dist for original circuit:\")\n",
    "for bitstr, prob in circ_distribution.items():\n",
    "    print(\"  %s: %f\" % (\"\".join([str(b) for b in bitstr]), prob))"
   ]
  },
  {
   "cell_type": "code",
   "execution_count": 5,
   "metadata": {},
   "outputs": [],
   "source": [
    "def build_noise_model(n_qubits=None, on_qubits=None):\n",
    "    # T1 and T2 values for qubits\n",
    "    T1s = np.random.normal(50e3, 10e3, len(on_qubits)) # Sampled from normal distribution mean 50 microsec\n",
    "    T2s = np.random.normal(70e3, 10e3, len(on_qubits)) # Sampled from normal distribution mean 50 microsec\n",
    "\n",
    "    # Truncate random T2s <= T1s\n",
    "    T2s = np.array([min(T2s[j], 2 * T1s[j]) for j in range(len(on_qubits))])\n",
    "\n",
    "    # Instruction times (in nanoseconds)\n",
    "    time_u1 = 0   # virtual gate\n",
    "    time_u2 = 50  # (single X90 pulse)\n",
    "    time_u3 = 100 # (two X90 pulses)\n",
    "    time_cx = 300\n",
    "    time_reset = 1000  # 1 microsecond\n",
    "    time_measure = 1000 # 1 microsecond\n",
    "\n",
    "    # QuantumError objects\n",
    "    errors_reset = [thermal_relaxation_error(t1, t2, time_reset)\n",
    "                    for t1, t2 in zip(T1s, T2s)]\n",
    "    errors_measure = [thermal_relaxation_error(t1, t2, time_measure)\n",
    "                    for t1, t2 in zip(T1s, T2s)]\n",
    "    errors_u1  = [thermal_relaxation_error(t1, t2, time_u1)\n",
    "                for t1, t2 in zip(T1s, T2s)]\n",
    "    errors_u2  = [thermal_relaxation_error(t1, t2, time_u2)\n",
    "                for t1, t2 in zip(T1s, T2s)]\n",
    "    errors_u3  = [thermal_relaxation_error(t1, t2, time_u3)\n",
    "                for t1, t2 in zip(T1s, T2s)]\n",
    "    errors_cx = [[thermal_relaxation_error(t1a, t2a, time_cx).expand(\n",
    "                thermal_relaxation_error(t1b, t2b, time_cx))\n",
    "                for t1a, t2a in zip(T1s, T2s)]\n",
    "                for t1b, t2b in zip(T1s, T2s)]\n",
    "\n",
    "    # Add errors to noise model\n",
    "    noise_thermal = NoiseModel()\n",
    "    for qubit in list(range(n_qubits)):\n",
    "        if qubit not in on_qubits:\n",
    "            noise_thermal.add_quantum_error(depolarizing_error(0.000001, 1), ['u1'], [qubit])\n",
    "            \n",
    "    for j, q1 in enumerate(on_qubits):\n",
    "        noise_thermal.add_quantum_error(errors_reset[j], \"reset\", [q1])\n",
    "        noise_thermal.add_quantum_error(errors_measure[j], \"measure\", [q1])\n",
    "        noise_thermal.add_quantum_error(errors_u1[j], \"u1\", [q1])\n",
    "        noise_thermal.add_quantum_error(errors_u2[j], \"u2\", [q1])\n",
    "        noise_thermal.add_quantum_error(errors_u3[j], \"u3\", [q1])\n",
    "        for k, q2 in enumerate(on_qubits):\n",
    "            noise_thermal.add_quantum_error(errors_cx[j][k], \"cx\", [q1, q2])\n",
    "    return noise_thermal\n",
    "\n",
    "circ_noise_model = build_noise_model(n_qubits=n_qubits, on_qubits=list(range(n_qubits)))\n",
    "sym_circ_noise_model = build_noise_model(n_qubits=total_sym_qubits, on_qubits=list(range(len(sym_circ_info[\"cntrl_qubits\"]), total_sym_qubits)))\n",
    "#sym_circ_noise_model = build_noise_model(n_qubits=total_sym_qubits, on_qubits=list(range(total_sym_qubits)))"
   ]
  },
  {
   "cell_type": "code",
   "execution_count": 6,
   "metadata": {},
   "outputs": [],
   "source": [
    "def error_calibration(n_qubits, noise_model, use_remote_simulator=False):\n",
    "    meas_calibs, state_labels = complete_meas_cal(qr=QuantumRegister(n_qubits), circlabel='mcal')\n",
    "    if not use_remote_simulator:\n",
    "        noise_job = execute(meas_calibs, backend=Aer.get_backend(\"qasm_simulator\"), shots=n_shots, noise_model=noise_model)\n",
    "        cal_results = noise_job.result()\n",
    "    else:\n",
    "        noise_job = job_manager.run(meas_calibs, backend=provider.get_backend(\"ibmq_qasm_simulator\"), shots=n_shots, noise_model=noise_model)\n",
    "        cal_results = noise_job.results().combine_results()                                  \n",
    "    meas_fitter = CompleteMeasFitter(cal_results, state_labels, circlabel='mcal')\n",
    "    return meas_fitter.filter"
   ]
  },
  {
   "cell_type": "code",
   "execution_count": 7,
   "metadata": {},
   "outputs": [],
   "source": [
    "def qiskit_pytket_counts(counts):\n",
    "    return dict([(tuple([int(b) for b in \"\".join(bitstr.split())][::-1]), count) for bitstr, count in counts.items()])\n",
    "\n",
    "def eval_circuit(circuit, noise_model=None, shots=8000, backend=None):\n",
    "    circ = circuit.copy()\n",
    "    AerBackend().compile_circuit(circ)\n",
    "    qis_circ = tk_to_qiskit(circ)\n",
    "    counts = execute(qis_circ,\\\n",
    "                     backend=Aer.get_backend('qasm_simulator') if not backend else backend,\\\n",
    "                     noise_model=noise_model,\\\n",
    "                     shots=shots).result().get_counts()\n",
    "    return qiskit_pytket_counts(counts)"
   ]
  },
  {
   "cell_type": "code",
   "execution_count": 8,
   "metadata": {},
   "outputs": [
    {
     "output_type": "stream",
     "name": "stdout",
     "text": [
      "noisy dist for original circuit:\n  00: 0.163500\n  10: 0.239875\n  01: 0.249500\n  11: 0.347125\n"
     ]
    }
   ],
   "source": [
    "noisy_circ_counts = eval_circuit(circ.copy().measure_all(), noise_model=circ_noise_model, shots=n_shots)\n",
    "noisy_circ_dists = probs_from_counts(noisy_circ_counts)\n",
    "\n",
    "print(\"noisy dist for original circuit:\")\n",
    "for bitstr, prob in noisy_circ_dists.items():\n",
    "    print(\"  %s: %f\" % (\"\".join([str(b) for b in bitstr]), prob))"
   ]
  },
  {
   "cell_type": "code",
   "execution_count": 9,
   "metadata": {},
   "outputs": [],
   "source": [
    "if error_mitigation:\n",
    "    circ_meas_filter = error_calibration(n_qubits, circ_noise_model)\n",
    "    noisy_circ_counts = dict([(\"\".join([str(b) for b in bitstr]), count) for bitstr, count in noisy_circ_counts.items()])\n",
    "    mitigated_circ_counts = circ_meas_filter.apply(noisy_circ_counts)\n",
    "    mitigated_circ_dists = probs_from_counts(mitigated_circ_counts)\n",
    "\n",
    "    print(\"mitigated dist for original circuit:\")\n",
    "    for bitstr, prob in mitigated_circ_dists.items():\n",
    "        print(\"  %s: %f\" % (bitstr, prob))"
   ]
  },
  {
   "cell_type": "code",
   "execution_count": 10,
   "metadata": {},
   "outputs": [],
   "source": [
    "def display_sym_dists(sym_dists):\n",
    "    exp_dists, avg_dist = sym_dists[\"exp_dists\"], sym_dists[\"avg_dist\"], \n",
    "    print(\"  postselected dists:\")\n",
    "    for i, dist in enumerate(exp_dists):\n",
    "        print(\"    experiment %d:\" % i)\n",
    "        for bitstr, prob in dist.items():\n",
    "            print(\"      %s: %f\" % (\"\".join([str(b) for b in bitstr]), prob))\n",
    "    print(\"  averaged dists:\")\n",
    "    for bitstr, prob in avg_dist.items():\n",
    "        print(\"    %s: %f\" % (\"\".join([str(b) for b in bitstr]), prob)) "
   ]
  },
  {
   "cell_type": "code",
   "execution_count": 11,
   "metadata": {},
   "outputs": [
    {
     "output_type": "stream",
     "name": "stdout",
     "text": [
      "clean sym circ dists:\n  postselected dists:\n    experiment 0:\n      00: 0.134000\n      10: 0.244125\n      01: 0.256125\n      11: 0.365750\n    experiment 1:\n      00: 0.126625\n      10: 0.238375\n      01: 0.253750\n      11: 0.381250\n    experiment 2:\n      00: 0.127125\n      10: 0.236625\n      01: 0.266000\n      11: 0.370250\n  averaged dists:\n    00: 0.129250\n    10: 0.239708\n    01: 0.258625\n    11: 0.372417\n"
     ]
    }
   ],
   "source": [
    "clean_sym_circ_counts = eval_circuit(sym_circ,\\\n",
    "                                     shots=n_shots,\\\n",
    "                                     backend=provider.get_backend(\"ibmq_qasm_simulator\")\\\n",
    "                                                if use_remote_simulator else None)\n",
    "print(\"clean sym circ dists:\")\n",
    "display_sym_dists(process_sym_counts(sym_circ_info, clean_sym_circ_counts))"
   ]
  },
  {
   "cell_type": "code",
   "execution_count": 12,
   "metadata": {},
   "outputs": [
    {
     "output_type": "stream",
     "name": "stdout",
     "text": [
      "noisy sym circ dists:\n  postselected dists:\n    experiment 0:\n      00: 0.171119\n      10: 0.232381\n      01: 0.245279\n      11: 0.351221\n    experiment 1:\n      00: 0.172271\n      10: 0.238830\n      01: 0.256794\n      11: 0.332105\n    experiment 2:\n      00: 0.181944\n      10: 0.241594\n      01: 0.243436\n      11: 0.333026\n  averaged dists:\n    00: 0.175111\n    10: 0.237602\n    01: 0.248503\n    11: 0.338784\n"
     ]
    }
   ],
   "source": [
    "noisy_sym_circ_counts = eval_circuit(sym_circ,\\\n",
    "                                        noise_model=sym_circ_noise_model, \n",
    "                                        shots=n_shots,\\\n",
    "                                        backend=provider.get_backend(\"ibmq_qasm_simulator\")\\\n",
    "                                                if use_remote_simulator else None)\n",
    "\n",
    "print(\"noisy sym circ dists:\")\n",
    "noisy_sym_circ_dists = process_sym_counts(sym_circ_info, noisy_sym_circ_counts)\n",
    "display_sym_dists(noisy_sym_circ_dists)"
   ]
  },
  {
   "cell_type": "code",
   "execution_count": 13,
   "metadata": {},
   "outputs": [],
   "source": [
    "if error_mitigation:\n",
    "    sym_circ_meas_filter = error_calibration(total_sym_qubits, sym_circ_noise_model, use_remote_simulator=use_remote_simulator)\n",
    "    noisy_sym_circ_counts = dict([(\"\".join([str(b) for b in bitstr]), count) for bitstr, count in noisy_sym_circ_counts.items()])\n",
    "    mitigated_sym_circ_counts = sym_circ_meas_filter.apply(noisy_sym_circ_counts)\n",
    "    mitigated_sym_circ_counts = dict([(tuple([int(b) for b in bitstr]), count) for bitstr, count in mitigated_sym_circ_counts.items()])\n",
    "    mitigated_sym_circ_dists = process_sym_counts(sym_circ_info, mitigated_sym_circ_counts)\n",
    "\n",
    "    print(\"mitigated sym circ dists:\")\n",
    "    display_sym_dists(mitigated_sym_circ_dists)"
   ]
  },
  {
   "cell_type": "code",
   "execution_count": 14,
   "metadata": {},
   "outputs": [
    {
     "output_type": "stream",
     "name": "stdout",
     "text": [
      "expected results: [0.13036165235168148, 0.25536165235168157, 0.24463834764831832, 0.36963834764831865]\nactual circ results: [0.1635, 0.2495, 0.239875, 0.347125]\nactual sym_circ results: [0.1751113158298787, 0.24850299401197604, 0.23760171963764778, 0.3387839705204974]\n\ncirc error: 0.040768\nsym circ error: 0.055237\n"
     ]
    }
   ],
   "source": [
    "basis = list(product([0,1], repeat=n_qubits))\n",
    "expected_probs = []\n",
    "actual_circ_probs = []\n",
    "actual_sym_circ_probs = []\n",
    "for b in basis:\n",
    "    if b in circ_distribution:\n",
    "        expected_probs.append(circ_distribution[b])\n",
    "    else:\n",
    "        expected_probs.append(0)\n",
    "    bs = \"\".join([str(b_) for b_ in b]) \n",
    "    if error_mitigation:\n",
    "        if bs in mitigated_circ_dists.keys():\n",
    "            actual_circ_probs.append(mitigated_circ_dists[bs])\n",
    "        else:\n",
    "            actual_circ_probs.append(0)    \n",
    "        if b in mitigated_sym_circ_dists[\"avg_dist\"]:\n",
    "            actual_sym_circ_probs.append(mitigated_sym_circ_dists[\"avg_dist\"][b])\n",
    "        else:\n",
    "            actual_sym_circ_probs.append(0)\n",
    "    else:\n",
    "        if b in noisy_circ_dists.keys():\n",
    "            actual_circ_probs.append(noisy_circ_dists[b])\n",
    "        else:\n",
    "            actual_circ_probs.append(0)    \n",
    "        if b in noisy_sym_circ_dists[\"avg_dist\"]:\n",
    "            actual_sym_circ_probs.append(noisy_sym_circ_dists[\"avg_dist\"][b])\n",
    "        else:\n",
    "            actual_sym_circ_probs.append(0)\n",
    "\n",
    "print(\"expected results: %s\" % expected_probs)\n",
    "print(\"actual circ results: %s\" % actual_circ_probs)\n",
    "print(\"actual sym_circ results: %s\" % actual_sym_circ_probs)\n",
    "print()\n",
    "print(\"circ error: %f\" % np.linalg.norm(np.array(actual_circ_probs) - np.array(expected_probs)))\n",
    "print(\"sym circ error: %f\" % np.linalg.norm(np.array(actual_sym_circ_probs) - np.array(expected_probs)))"
   ]
  },
  {
   "cell_type": "code",
   "execution_count": null,
   "metadata": {},
   "outputs": [],
   "source": []
  }
 ]
}