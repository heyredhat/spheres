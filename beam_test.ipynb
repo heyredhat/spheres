{
 "cells": [
  {
   "cell_type": "code",
   "execution_count": 1,
   "metadata": {},
   "outputs": [
    {
     "output_type": "display_data",
     "data": {
      "text/plain": "Canvas(toolbar=Toolbar(toolitems=[('Home', 'Reset original view', 'home', 'home'), ('Back', 'Back to previous …",
      "application/vnd.jupyter.widget-view+json": {
       "version_major": 2,
       "version_minor": 0,
       "model_id": "49f64e4ee2ac4cf9a102df4a6e328c92"
      }
     },
     "metadata": {}
    }
   ],
   "source": [
    "%matplotlib widget\n",
    "from spheres import *\n",
    "from spheres.beams import *\n",
    "\n",
    "star = sph_xyz([1, np.pi/4, np.pi/4])\n",
    "spin = xyz_spin([star, star, star, star, star, star])\n",
    "beam = spin_beam(spin)\n",
    "\n",
    "viz_beam(beam, size=3.5, n_samples=200)"
   ]
  },
  {
   "cell_type": "code",
   "execution_count": 3,
   "metadata": {},
   "outputs": [
    {
     "output_type": "display_data",
     "data": {
      "text/plain": "Canvas(toolbar=Toolbar(toolitems=[('Home', 'Reset original view', 'home', 'home'), ('Back', 'Back to previous …",
      "application/vnd.jupyter.widget-view+json": {
       "version_major": 2,
       "version_minor": 0,
       "model_id": "f4e3a0516e184577be1e0de02ec94971"
      }
     },
     "metadata": {}
    }
   ],
   "source": [
    "%matplotlib widget\n",
    "from spheres import *\n",
    "from spheres.beams import *\n",
    "\n",
    "star = sph_xyz([1, np.pi/4, np.pi/4])\n",
    "spin = xyz_spin([star, star, star, star, star, star])\n",
    "\n",
    "viz_spin_beam(spin, size=3.5, n_samples=200)"
   ]
  },
  {
   "cell_type": "code",
   "execution_count": 2,
   "metadata": {},
   "outputs": [
    {
     "output_type": "display_data",
     "data": {
      "text/plain": "Canvas(toolbar=Toolbar(toolitems=[('Home', 'Reset original view', 'home', 'home'), ('Back', 'Back to previous …",
      "application/vnd.jupyter.widget-view+json": {
       "version_major": 2,
       "version_minor": 0,
       "model_id": "47e6a62382294646bb0dc643550b1e19"
      }
     },
     "metadata": {}
    }
   ],
   "source": [
    "%matplotlib widget\n",
    "from spheres import *\n",
    "from spheres.beams import *\n",
    "from spheres.polyhedra import *\n",
    "\n",
    "j = 3/2\n",
    "d = int(2*j+1)\n",
    "spin = xyz_spin(equidistribute_points(int(2*j)))\n",
    "H = qt.jmat(j, 'x')\n",
    "ani = animate_spin_beam(spin, H, dt=0.05, T=2*np.pi, n_samples=500, filename=\"beam_vids/beam3.mp4\")\n"
   ]
  },
  {
   "cell_type": "code",
   "execution_count": null,
   "metadata": {},
   "outputs": [],
   "source": []
  }
 ],
 "metadata": {
  "kernelspec": {
   "display_name": "Python 3",
   "language": "python",
   "name": "python3"
  },
  "language_info": {
   "codemirror_mode": {
    "name": "ipython",
    "version": 3
   },
   "file_extension": ".py",
   "mimetype": "text/x-python",
   "name": "python",
   "nbconvert_exporter": "python",
   "pygments_lexer": "ipython3",
   "version": "3.8.5-final"
  }
 },
 "nbformat": 4,
 "nbformat_minor": 2
}